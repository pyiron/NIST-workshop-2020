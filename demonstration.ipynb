{
 "cells": [
  {
   "cell_type": "markdown",
   "metadata": {},
   "source": [
    "# first calculation with pyiron "
   ]
  },
  {
   "cell_type": "markdown",
   "metadata": {},
   "source": [
    "## project object"
   ]
  },
  {
   "cell_type": "code",
   "execution_count": 1,
   "metadata": {},
   "outputs": [],
   "source": [
    "from pyiron import Project"
   ]
  },
  {
   "cell_type": "code",
   "execution_count": 2,
   "metadata": {},
   "outputs": [],
   "source": [
    "pr = Project('demonstration')"
   ]
  },
  {
   "cell_type": "code",
   "execution_count": 3,
   "metadata": {},
   "outputs": [],
   "source": [
    "pr.remove_jobs(recursive=True)  # to have a fresh start every time we execute the notebook"
   ]
  },
  {
   "cell_type": "code",
   "execution_count": 4,
   "metadata": {},
   "outputs": [
    {
     "data": {
      "text/plain": [
       "'/Users/jan/pyiron/projects/2019/2019-12-11-lanl-tutorial/demonstration/'"
      ]
     },
     "execution_count": 4,
     "metadata": {},
     "output_type": "execute_result"
    }
   ],
   "source": [
    "pr.path"
   ]
  },
  {
   "cell_type": "markdown",
   "metadata": {},
   "source": [
    "## structure object "
   ]
  },
  {
   "cell_type": "code",
   "execution_count": 5,
   "metadata": {},
   "outputs": [],
   "source": [
    "structure = pr.create_structure('Al', 'fcc', 4.05)  # compatible to the ASE structure object"
   ]
  },
  {
   "cell_type": "code",
   "execution_count": 6,
   "metadata": {},
   "outputs": [
    {
     "data": {
      "text/plain": [
       "Al: [0. 0. 0.]\n",
       "Al: [2.025 2.025 0.   ]\n",
       "Al: [2.02500000e+00 1.23995488e-16 2.02500000e+00]\n",
       "Al: [2.47990977e-16 2.02500000e+00 2.02500000e+00]\n",
       "pbc: [ True  True  True]\n",
       "cell: \n",
       "[[4.05000000e+00 0.00000000e+00 0.00000000e+00]\n",
       " [2.47990977e-16 4.05000000e+00 0.00000000e+00]\n",
       " [2.47990977e-16 2.47990977e-16 4.05000000e+00]]"
      ]
     },
     "execution_count": 6,
     "metadata": {},
     "output_type": "execute_result"
    }
   ],
   "source": [
    "structure"
   ]
  },
  {
   "cell_type": "code",
   "execution_count": 7,
   "metadata": {},
   "outputs": [
    {
     "data": {
      "application/vnd.jupyter.widget-view+json": {
       "model_id": "16be0ad1a8a9434d837838b92c4f1c68",
       "version_major": 2,
       "version_minor": 0
      },
      "text/plain": [
       "_ColormakerRegistry()"
      ]
     },
     "metadata": {},
     "output_type": "display_data"
    },
    {
     "data": {
      "application/vnd.jupyter.widget-view+json": {
       "model_id": "c1bb97b3aded470e95e2760c288158d4",
       "version_major": 2,
       "version_minor": 0
      },
      "text/plain": [
       "NGLWidget()"
      ]
     },
     "metadata": {},
     "output_type": "display_data"
    }
   ],
   "source": [
    "structure.plot3d()"
   ]
  },
  {
   "cell_type": "markdown",
   "metadata": {},
   "source": [
    "## job object "
   ]
  },
  {
   "cell_type": "code",
   "execution_count": 8,
   "metadata": {},
   "outputs": [],
   "source": [
    "job_lammps = pr.create_job(pr.job_type.Lammps, 'job_lammps_1')"
   ]
  },
  {
   "cell_type": "code",
   "execution_count": 9,
   "metadata": {},
   "outputs": [],
   "source": [
    "job_lammps.structure = structure"
   ]
  },
  {
   "cell_type": "code",
   "execution_count": 10,
   "metadata": {},
   "outputs": [
    {
     "data": {
      "text/html": [
       "<div>\n",
       "<style scoped>\n",
       "    .dataframe tbody tr th:only-of-type {\n",
       "        vertical-align: middle;\n",
       "    }\n",
       "\n",
       "    .dataframe tbody tr th {\n",
       "        vertical-align: top;\n",
       "    }\n",
       "\n",
       "    .dataframe thead th {\n",
       "        text-align: right;\n",
       "    }\n",
       "</style>\n",
       "<table border=\"1\" class=\"dataframe\">\n",
       "  <thead>\n",
       "    <tr style=\"text-align: right;\">\n",
       "      <th></th>\n",
       "      <th>Config</th>\n",
       "      <th>Filename</th>\n",
       "      <th>Model</th>\n",
       "      <th>Name</th>\n",
       "      <th>Species</th>\n",
       "    </tr>\n",
       "  </thead>\n",
       "  <tbody>\n",
       "    <tr>\n",
       "      <th>0</th>\n",
       "      <td>[pair_style eam/fs \\n, pair_coeff * * Al-Mg.eam.fs Al Mg\\n]</td>\n",
       "      <td>[NISTiprpy/2009--Mendelev-M-I--Al-Mg--LAMMPS--ipr1/Al-Mg.eam.fs]</td>\n",
       "      <td>EAM</td>\n",
       "      <td>Al_Mg_Mendelev_eam</td>\n",
       "      <td>[Al, Mg]</td>\n",
       "    </tr>\n",
       "    <tr>\n",
       "      <th>1</th>\n",
       "      <td>[pair_style eam/alloy \\n, pair_coeff * * Zope-Ti-Al-2003.eam.alloy Ti Al\\n]</td>\n",
       "      <td>[NISTiprpy/2003--Zope-R-R--Ti-Al--LAMMPS--ipr1/Zope-Ti-Al-2003.eam.alloy]</td>\n",
       "      <td>EAM</td>\n",
       "      <td>Zope_Ti_Al_2003_eam</td>\n",
       "      <td>[Ti, Al]</td>\n",
       "    </tr>\n",
       "    <tr>\n",
       "      <th>2</th>\n",
       "      <td>[pair_style eam/alloy \\n, pair_coeff * * NiAlH_jea.eam.alloy Ni Al H\\n]</td>\n",
       "      <td>[NISTiprpy/1995--Angelo-J-E--Ni-Al-H--LAMMPS--ipr1/NiAlH_jea.eam.alloy]</td>\n",
       "      <td>EAM</td>\n",
       "      <td>Al_H_Ni_Angelo_eam</td>\n",
       "      <td>[Ni, Al, H]</td>\n",
       "    </tr>\n",
       "    <tr>\n",
       "      <th>13</th>\n",
       "      <td>[pair_style meam/c\\n, pair_coeff * * MgAlZn.library.meam Mg Al MgAlZn.parameter.meam Mg Al Zn\\n]</td>\n",
       "      <td>[NISTiprpy/2018--Dickel-D-E--Mg-Al-Zn--LAMMPS--ipr1/MgAlZn.parameter.meam, NISTiprpy/2018--Dickel-D-E--Mg-Al-Zn--LAMMPS--ipr1/MgAlZn.library.meam]</td>\n",
       "      <td>NISTiprpy</td>\n",
       "      <td>2018--Dickel-D-E--Mg-Al-Zn--LAMMPS--ipr1</td>\n",
       "      <td>[Mg, Al, Zn]</td>\n",
       "    </tr>\n",
       "    <tr>\n",
       "      <th>34</th>\n",
       "      <td>[pair_style eam/alloy\\n, pair_coeff * * alpb-setfl.eam.alloy Al Pb\\n]</td>\n",
       "      <td>[NISTiprpy/2000--Landa-A--Al-Pb--LAMMPS--ipr1/alpb-setfl.eam.alloy]</td>\n",
       "      <td>NISTiprpy</td>\n",
       "      <td>2000--Landa-A--Al-Pb--LAMMPS--ipr1</td>\n",
       "      <td>[Al, Pb]</td>\n",
       "    </tr>\n",
       "    <tr>\n",
       "      <th>...</th>\n",
       "      <td>...</td>\n",
       "      <td>...</td>\n",
       "      <td>...</td>\n",
       "      <td>...</td>\n",
       "      <td>...</td>\n",
       "    </tr>\n",
       "    <tr>\n",
       "      <th>649</th>\n",
       "      <td>[pair_style kim Sim_LAMMPS_MEAM_JelinekGrohHorstemeyer_2012_AlSiMgCuFe__SM_656517352485_000\\n, pair_coeff * * Al Si Mg Cu Fe\\n]</td>\n",
       "      <td>[]</td>\n",
       "      <td>OpenKIM</td>\n",
       "      <td>Sim_LAMMPS_MEAM_JelinekGrohHorstemeyer_2012_AlSiMgCuFe__SM_656517352485_000</td>\n",
       "      <td>[Al, Si, Mg, Cu, Fe]</td>\n",
       "    </tr>\n",
       "    <tr>\n",
       "      <th>659</th>\n",
       "      <td>[pair_style kim Sim_LAMMPS_MEAM_PascuetFernandez_2015_AlU__SM_721930391003_000\\n, pair_coeff * * Al U\\n]</td>\n",
       "      <td>[]</td>\n",
       "      <td>OpenKIM</td>\n",
       "      <td>Sim_LAMMPS_MEAM_PascuetFernandez_2015_AlU__SM_721930391003_000</td>\n",
       "      <td>[Al, U]</td>\n",
       "    </tr>\n",
       "    <tr>\n",
       "      <th>660</th>\n",
       "      <td>[pair_style kim Sim_LAMMPS_MEAM_PascuetFernandez_2015_Al__SM_811588957187_000\\n, pair_coeff * * Al\\n]</td>\n",
       "      <td>[]</td>\n",
       "      <td>OpenKIM</td>\n",
       "      <td>Sim_LAMMPS_MEAM_PascuetFernandez_2015_Al__SM_811588957187_000</td>\n",
       "      <td>[Al]</td>\n",
       "    </tr>\n",
       "    <tr>\n",
       "      <th>679</th>\n",
       "      <td>[pair_style kim Sim_LAMMPS_SMTBQ_SallesPolitanoAmzallag_2016_AlO__SM_853967355976_000\\n, pair_coeff * * Al O\\n]</td>\n",
       "      <td>[]</td>\n",
       "      <td>OpenKIM</td>\n",
       "      <td>Sim_LAMMPS_SMTBQ_SallesPolitanoAmzallag_2016_AlO__SM_853967355976_000</td>\n",
       "      <td>[Al, O]</td>\n",
       "    </tr>\n",
       "    <tr>\n",
       "      <th>680</th>\n",
       "      <td>[pair_style kim Sim_LAMMPS_SMTBQ_SallesPolitanoAmzallag_2016_Al__SM_404097633924_000\\n, pair_coeff * * Al\\n]</td>\n",
       "      <td>[]</td>\n",
       "      <td>OpenKIM</td>\n",
       "      <td>Sim_LAMMPS_SMTBQ_SallesPolitanoAmzallag_2016_Al__SM_404097633924_000</td>\n",
       "      <td>[Al]</td>\n",
       "    </tr>\n",
       "  </tbody>\n",
       "</table>\n",
       "<p>93 rows × 5 columns</p>\n",
       "</div>"
      ],
      "text/plain": [
       "                                                                                                                              Config  \\\n",
       "0                                                                        [pair_style eam/fs \\n, pair_coeff * * Al-Mg.eam.fs Al Mg\\n]   \n",
       "1                                                        [pair_style eam/alloy \\n, pair_coeff * * Zope-Ti-Al-2003.eam.alloy Ti Al\\n]   \n",
       "2                                                            [pair_style eam/alloy \\n, pair_coeff * * NiAlH_jea.eam.alloy Ni Al H\\n]   \n",
       "13                                  [pair_style meam/c\\n, pair_coeff * * MgAlZn.library.meam Mg Al MgAlZn.parameter.meam Mg Al Zn\\n]   \n",
       "34                                                             [pair_style eam/alloy\\n, pair_coeff * * alpb-setfl.eam.alloy Al Pb\\n]   \n",
       "..                                                                                                                               ...   \n",
       "649  [pair_style kim Sim_LAMMPS_MEAM_JelinekGrohHorstemeyer_2012_AlSiMgCuFe__SM_656517352485_000\\n, pair_coeff * * Al Si Mg Cu Fe\\n]   \n",
       "659                         [pair_style kim Sim_LAMMPS_MEAM_PascuetFernandez_2015_AlU__SM_721930391003_000\\n, pair_coeff * * Al U\\n]   \n",
       "660                            [pair_style kim Sim_LAMMPS_MEAM_PascuetFernandez_2015_Al__SM_811588957187_000\\n, pair_coeff * * Al\\n]   \n",
       "679                  [pair_style kim Sim_LAMMPS_SMTBQ_SallesPolitanoAmzallag_2016_AlO__SM_853967355976_000\\n, pair_coeff * * Al O\\n]   \n",
       "680                     [pair_style kim Sim_LAMMPS_SMTBQ_SallesPolitanoAmzallag_2016_Al__SM_404097633924_000\\n, pair_coeff * * Al\\n]   \n",
       "\n",
       "                                                                                                                                               Filename  \\\n",
       "0                                                                                      [NISTiprpy/2009--Mendelev-M-I--Al-Mg--LAMMPS--ipr1/Al-Mg.eam.fs]   \n",
       "1                                                                             [NISTiprpy/2003--Zope-R-R--Ti-Al--LAMMPS--ipr1/Zope-Ti-Al-2003.eam.alloy]   \n",
       "2                                                                               [NISTiprpy/1995--Angelo-J-E--Ni-Al-H--LAMMPS--ipr1/NiAlH_jea.eam.alloy]   \n",
       "13   [NISTiprpy/2018--Dickel-D-E--Mg-Al-Zn--LAMMPS--ipr1/MgAlZn.parameter.meam, NISTiprpy/2018--Dickel-D-E--Mg-Al-Zn--LAMMPS--ipr1/MgAlZn.library.meam]   \n",
       "34                                                                                  [NISTiprpy/2000--Landa-A--Al-Pb--LAMMPS--ipr1/alpb-setfl.eam.alloy]   \n",
       "..                                                                                                                                                  ...   \n",
       "649                                                                                                                                                  []   \n",
       "659                                                                                                                                                  []   \n",
       "660                                                                                                                                                  []   \n",
       "679                                                                                                                                                  []   \n",
       "680                                                                                                                                                  []   \n",
       "\n",
       "         Model  \\\n",
       "0          EAM   \n",
       "1          EAM   \n",
       "2          EAM   \n",
       "13   NISTiprpy   \n",
       "34   NISTiprpy   \n",
       "..         ...   \n",
       "649    OpenKIM   \n",
       "659    OpenKIM   \n",
       "660    OpenKIM   \n",
       "679    OpenKIM   \n",
       "680    OpenKIM   \n",
       "\n",
       "                                                                            Name  \\\n",
       "0                                                             Al_Mg_Mendelev_eam   \n",
       "1                                                            Zope_Ti_Al_2003_eam   \n",
       "2                                                             Al_H_Ni_Angelo_eam   \n",
       "13                                      2018--Dickel-D-E--Mg-Al-Zn--LAMMPS--ipr1   \n",
       "34                                            2000--Landa-A--Al-Pb--LAMMPS--ipr1   \n",
       "..                                                                           ...   \n",
       "649  Sim_LAMMPS_MEAM_JelinekGrohHorstemeyer_2012_AlSiMgCuFe__SM_656517352485_000   \n",
       "659               Sim_LAMMPS_MEAM_PascuetFernandez_2015_AlU__SM_721930391003_000   \n",
       "660                Sim_LAMMPS_MEAM_PascuetFernandez_2015_Al__SM_811588957187_000   \n",
       "679        Sim_LAMMPS_SMTBQ_SallesPolitanoAmzallag_2016_AlO__SM_853967355976_000   \n",
       "680         Sim_LAMMPS_SMTBQ_SallesPolitanoAmzallag_2016_Al__SM_404097633924_000   \n",
       "\n",
       "                  Species  \n",
       "0                [Al, Mg]  \n",
       "1                [Ti, Al]  \n",
       "2             [Ni, Al, H]  \n",
       "13           [Mg, Al, Zn]  \n",
       "34               [Al, Pb]  \n",
       "..                    ...  \n",
       "649  [Al, Si, Mg, Cu, Fe]  \n",
       "659               [Al, U]  \n",
       "660                  [Al]  \n",
       "679               [Al, O]  \n",
       "680                  [Al]  \n",
       "\n",
       "[93 rows x 5 columns]"
      ]
     },
     "execution_count": 10,
     "metadata": {},
     "output_type": "execute_result"
    }
   ],
   "source": [
    "job_lammps.view_potentials()"
   ]
  },
  {
   "cell_type": "code",
   "execution_count": 11,
   "metadata": {},
   "outputs": [
    {
     "data": {
      "text/plain": [
       "['Al_Mg_Mendelev_eam',\n",
       " 'Zope_Ti_Al_2003_eam',\n",
       " 'Al_H_Ni_Angelo_eam',\n",
       " '2018--Dickel-D-E--Mg-Al-Zn--LAMMPS--ipr1',\n",
       " '2000--Landa-A--Al-Pb--LAMMPS--ipr1',\n",
       " '2004--Zhou-X-W--Al--LAMMPS--ipr2',\n",
       " '2003--Zope-R-R--Al--LAMMPS--ipr1',\n",
       " '2015--Mendelev-M-I--Al-Sm--LAMMPS--ipr1',\n",
       " '1997--Liu-X-Y--Al-Mg--LAMMPS--ipr1',\n",
       " '2004--Zhou-X-W--Al--LAMMPS--ipr1',\n",
       " '1995--Angelo-J-E--Ni-Al-H--LAMMPS--ipr1',\n",
       " '2015--Pascuet-M-I--Al-U--LAMMPS--ipr2',\n",
       " '1999--Liu-X-Y--Al-Cu--LAMMPS--ipr1',\n",
       " '2015--Pascuet-M-I--Al--LAMMPS--ipr1',\n",
       " '1998--Liu-X-Y--Al-Mg--LAMMPS--ipr1',\n",
       " '2015--Purja-Pun-G-P--Ni-Al-Co--LAMMPS--ipr2',\n",
       " '2009--Mendelev-M-I--Al-Mg--LAMMPS--ipr1',\n",
       " '2002--Mishin-Y--Ni-Al--LAMMPS--ipr1',\n",
       " '2012--Schopf-D--Al-Mn-Pd--LAMMPS--ipr1',\n",
       " '2000--Sturgeon-J-B--Al--LAMMPS--ipr1',\n",
       " '2003--Zope-R-R--Ti-Al--LAMMPS--ipr1',\n",
       " '2009--Zhakhovskii-V-V--Al--LAMMPS--ipr1',\n",
       " '2015--Purja-Pun-G-P--Ni-Al-Co--LAMMPS--ipr1',\n",
       " '1996--Farkas-D--Nb-Ti-Al--LAMMPS--ipr1',\n",
       " '2015--Purja-Pun-G-P--Al-Co--LAMMPS--ipr1',\n",
       " '2015--Purja-Pun-G-P--Al-Co--LAMMPS--ipr2',\n",
       " '2015--Pascuet-M-I--Al-U--LAMMPS--ipr1',\n",
       " '2010--Winey-J-M--Al--LAMMPS--ipr1',\n",
       " '2005--Mendelev-M-I--Al-Fe--LAMMPS--ipr1',\n",
       " '1999--Mishin-Y--Al--LAMMPS--ipr1',\n",
       " '2008--Mendelev-M-I--Al--LAMMPS--ipr1',\n",
       " '2009--Purja-Pun-G-P--Ni-Al--LAMMPS--ipr1',\n",
       " '2004--Mishin-Y--Ni-Al--LAMMPS--ipr1',\n",
       " '2004--Liu-X-Y--Al--LAMMPS--ipr1',\n",
       " '2016--Zhou-X-W--Al-Cu--LAMMPS--ipr1',\n",
       " '2017--Botu-V--Al--LAMMPS--ipr1',\n",
       " '2011--Apostol-F--Al-Cu--LAMMPS--ipr1',\n",
       " '2015--Botu-V--Al--LAMMPS--ipr1',\n",
       " '2015--Choudhary-K--Al--LAMMPS--ipr1',\n",
       " '2018--Zhou-X-W--Al-Cu-H--LAMMPS--ipr1',\n",
       " '2015--Kumar-A--Al-Ni-O--LAMMPS--ipr1',\n",
       " '2015--Kumar-A--Al-Ni--LAMMPS--ipr1',\n",
       " 'EAM_CubicNaturalSpline_ErcolessiAdams_1994_Al__MO_800509458712_002',\n",
       " 'EAM_Dynamo_AngeloMoodyBaskes_1995_NiAlH__MO_418978237058_005',\n",
       " 'EAM_Dynamo_CaiYe_1996_AlCu__MO_942551040047_005',\n",
       " 'EAM_Dynamo_ErcolessiAdams_1994_Al__MO_123629422045_005',\n",
       " 'EAM_Dynamo_FarkasJones_1996_NbTiAl__MO_042691367780_000',\n",
       " 'EAM_Dynamo_JacobsenNorskovPuska_1987_Al__MO_411692133366_000',\n",
       " 'EAM_Dynamo_LandaWynblattSiegel_2000_AlPb__MO_699137396381_005',\n",
       " 'EAM_Dynamo_LiuAdams_1998_AlMg__MO_019873715786_000',\n",
       " 'EAM_Dynamo_LiuErcolessiAdams_2004_Al__MO_051157671505_000',\n",
       " 'EAM_Dynamo_LiuLiuBorucki_1999_AlCu__MO_020851069572_000',\n",
       " 'EAM_Dynamo_LiuOhotnickyAdams_1997_AlMg__MO_559870613549_000',\n",
       " 'EAM_Dynamo_MendelevAstaRahman_2009_AlMg__MO_658278549784_005',\n",
       " 'EAM_Dynamo_MendelevFangYe_2015_AlSm__MO_338600200739_000',\n",
       " 'EAM_Dynamo_MendelevKramerBecker_2008_Al__MO_106969701023_005',\n",
       " 'EAM_Dynamo_MendelevSrolovitzAckland_2005_AlFe__MO_577453891941_005',\n",
       " 'EAM_Dynamo_MishinFarkasMehl_1999_Al__MO_651801486679_005',\n",
       " 'EAM_Dynamo_MishinMehlPapaconstantopoulos_2002_NiAl__MO_109933561507_005',\n",
       " 'EAM_Dynamo_Mishin_2004_NiAl__MO_101214310689_005',\n",
       " 'EAM_Dynamo_PunMishin_2009_NiAl__MO_751354403791_005',\n",
       " 'EAM_Dynamo_PunYamakovMishin_2013_AlCo__MO_678952612413_000',\n",
       " 'EAM_Dynamo_PunYamakovMishin_2013_NiAlCo__MO_826591359508_000',\n",
       " 'EAM_Dynamo_SchopfBrommerFrigan_2012_AlMnPd__MO_137572817842_000',\n",
       " 'EAM_Dynamo_SturgeonLaird_2000_Al__MO_120808805541_005',\n",
       " 'EAM_Dynamo_VailheFarkas_1997_CoAl__MO_284963179498_005',\n",
       " 'EAM_Dynamo_WineyKubotaGupta_2010_Al__MO_149316865608_005',\n",
       " 'EAM_Dynamo_Zhakhovsky_2009_Al__MO_519613893196_000',\n",
       " 'EAM_Dynamo_ZhouJohnsonWadley_2004_Al__MO_131650261510_005',\n",
       " 'EAM_Dynamo_ZhouWadleyJohnson_2001NISTretabulation_Al__MO_060567868558_000',\n",
       " 'EAM_Dynamo_ZhouWadleyJohnson_2001_Al__MO_049243498555_000',\n",
       " 'EAM_Dynamo_ZopeMishin_2003_Al__MO_664470114311_005',\n",
       " 'EAM_Dynamo_ZopeMishin_2003_TiAl__MO_117656786760_005',\n",
       " 'EAM_ErcolessiAdams_1994_Al__MO_324507536345_002',\n",
       " 'EAM_IMD_BrommerGaehler_2006A_AlNiCo__MO_122703700223_003',\n",
       " 'EAM_IMD_BrommerGaehler_2006B_AlNiCo__MO_128037485276_003',\n",
       " 'EAM_IMD_SchopfBrommerFrigan_2012_AlMnPd__MO_878712978062_003',\n",
       " 'EAM_QuinticClampedSpline_ErcolessiAdams_1994_Al__MO_450093727396_002',\n",
       " 'EAM_QuinticHermiteSpline_ErcolessiAdams_1994_Al__MO_781138671863_002',\n",
       " 'EMT_Asap_Standard_JacobsenStoltzeNorskov_1996_AlAgAuCuNiPdPt__MO_115316750986_001',\n",
       " 'EMT_Asap_Standard_JacobsenStoltzeNorskov_1996_Al__MO_623376124862_001',\n",
       " 'Morse_Shifted_GirifalcoWeizer_1959HighCutoff_Al__MO_140175748626_003',\n",
       " 'Morse_Shifted_GirifalcoWeizer_1959LowCutoff_Al__MO_411898953661_003',\n",
       " 'Morse_Shifted_GirifalcoWeizer_1959MedCutoff_Al__MO_279544746097_003',\n",
       " 'Sim_LAMMPS_ADP_ApostolMishin_2011_AlCu__SM_667696763561_000',\n",
       " 'Sim_LAMMPS_AGNI_BotuBatraChapman_2017_Al__SM_666183636896_000',\n",
       " 'Sim_LAMMPS_BOP_ZhouWardFoster_2016_AlCu__SM_566399258279_000',\n",
       " 'Sim_LAMMPS_MEAM_AlmyrasSangiovanniSarakinos_2019_NAlTi__SM_871795249052_000',\n",
       " 'Sim_LAMMPS_MEAM_JelinekGrohHorstemeyer_2012_AlSiMgCuFe__SM_656517352485_000',\n",
       " 'Sim_LAMMPS_MEAM_PascuetFernandez_2015_AlU__SM_721930391003_000',\n",
       " 'Sim_LAMMPS_MEAM_PascuetFernandez_2015_Al__SM_811588957187_000',\n",
       " 'Sim_LAMMPS_SMTBQ_SallesPolitanoAmzallag_2016_AlO__SM_853967355976_000',\n",
       " 'Sim_LAMMPS_SMTBQ_SallesPolitanoAmzallag_2016_Al__SM_404097633924_000']"
      ]
     },
     "execution_count": 11,
     "metadata": {},
     "output_type": "execute_result"
    }
   ],
   "source": [
    "job_lammps.list_potentials()"
   ]
  },
  {
   "cell_type": "code",
   "execution_count": 12,
   "metadata": {},
   "outputs": [],
   "source": [
    "job_lammps.potential = 'Al_Mg_Mendelev_eam'"
   ]
  },
  {
   "cell_type": "code",
   "execution_count": 13,
   "metadata": {},
   "outputs": [
    {
     "data": {
      "text/html": [
       "<div>\n",
       "<style scoped>\n",
       "    .dataframe tbody tr th:only-of-type {\n",
       "        vertical-align: middle;\n",
       "    }\n",
       "\n",
       "    .dataframe tbody tr th {\n",
       "        vertical-align: top;\n",
       "    }\n",
       "\n",
       "    .dataframe thead th {\n",
       "        text-align: right;\n",
       "    }\n",
       "</style>\n",
       "<table border=\"1\" class=\"dataframe\">\n",
       "  <thead>\n",
       "    <tr style=\"text-align: right;\">\n",
       "      <th></th>\n",
       "      <th>Parameter</th>\n",
       "      <th>Value</th>\n",
       "      <th>Comment</th>\n",
       "    </tr>\n",
       "  </thead>\n",
       "  <tbody>\n",
       "    <tr>\n",
       "      <th>0</th>\n",
       "      <td>units</td>\n",
       "      <td>metal</td>\n",
       "      <td></td>\n",
       "    </tr>\n",
       "    <tr>\n",
       "      <th>1</th>\n",
       "      <td>dimension</td>\n",
       "      <td>3</td>\n",
       "      <td></td>\n",
       "    </tr>\n",
       "    <tr>\n",
       "      <th>2</th>\n",
       "      <td>boundary</td>\n",
       "      <td>p p p</td>\n",
       "      <td></td>\n",
       "    </tr>\n",
       "    <tr>\n",
       "      <th>3</th>\n",
       "      <td>atom_style</td>\n",
       "      <td>atomic</td>\n",
       "      <td></td>\n",
       "    </tr>\n",
       "    <tr>\n",
       "      <th>4</th>\n",
       "      <td>read_data</td>\n",
       "      <td>structure.inp</td>\n",
       "      <td></td>\n",
       "    </tr>\n",
       "    <tr>\n",
       "      <th>5</th>\n",
       "      <td>include</td>\n",
       "      <td>potential.inp</td>\n",
       "      <td></td>\n",
       "    </tr>\n",
       "    <tr>\n",
       "      <th>6</th>\n",
       "      <td>fix___ensemble</td>\n",
       "      <td>all nve</td>\n",
       "      <td></td>\n",
       "    </tr>\n",
       "    <tr>\n",
       "      <th>7</th>\n",
       "      <td>variable___dumptime</td>\n",
       "      <td>equal 100</td>\n",
       "      <td></td>\n",
       "    </tr>\n",
       "    <tr>\n",
       "      <th>8</th>\n",
       "      <td>dump___1</td>\n",
       "      <td>all custom ${dumptime} dump.out id type xsu ysu zsu fx fy fz</td>\n",
       "      <td></td>\n",
       "    </tr>\n",
       "    <tr>\n",
       "      <th>9</th>\n",
       "      <td>dump_modify___1</td>\n",
       "      <td>sort id format line \"%d %d %20.15g %20.15g %20.15g %20.15g %20.15g %20.15g\"</td>\n",
       "      <td></td>\n",
       "    </tr>\n",
       "    <tr>\n",
       "      <th>10</th>\n",
       "      <td>thermo_style</td>\n",
       "      <td>custom step temp pe etotal pxx pxy pxz pyy pyz pzz vol</td>\n",
       "      <td></td>\n",
       "    </tr>\n",
       "    <tr>\n",
       "      <th>11</th>\n",
       "      <td>thermo_modify</td>\n",
       "      <td>format float %20.15g</td>\n",
       "      <td></td>\n",
       "    </tr>\n",
       "    <tr>\n",
       "      <th>12</th>\n",
       "      <td>thermo</td>\n",
       "      <td>100</td>\n",
       "      <td></td>\n",
       "    </tr>\n",
       "    <tr>\n",
       "      <th>13</th>\n",
       "      <td>run</td>\n",
       "      <td>0</td>\n",
       "      <td></td>\n",
       "    </tr>\n",
       "  </tbody>\n",
       "</table>\n",
       "</div>"
      ],
      "text/plain": [
       "              Parameter  \\\n",
       "0                 units   \n",
       "1             dimension   \n",
       "2              boundary   \n",
       "3            atom_style   \n",
       "4             read_data   \n",
       "5               include   \n",
       "6        fix___ensemble   \n",
       "7   variable___dumptime   \n",
       "8              dump___1   \n",
       "9       dump_modify___1   \n",
       "10         thermo_style   \n",
       "11        thermo_modify   \n",
       "12               thermo   \n",
       "13                  run   \n",
       "\n",
       "                                                                          Value  \\\n",
       "0                                                                         metal   \n",
       "1                                                                             3   \n",
       "2                                                                         p p p   \n",
       "3                                                                        atomic   \n",
       "4                                                                 structure.inp   \n",
       "5                                                                 potential.inp   \n",
       "6                                                                       all nve   \n",
       "7                                                                     equal 100   \n",
       "8                  all custom ${dumptime} dump.out id type xsu ysu zsu fx fy fz   \n",
       "9   sort id format line \"%d %d %20.15g %20.15g %20.15g %20.15g %20.15g %20.15g\"   \n",
       "10                       custom step temp pe etotal pxx pxy pxz pyy pyz pzz vol   \n",
       "11                                                         format float %20.15g   \n",
       "12                                                                          100   \n",
       "13                                                                            0   \n",
       "\n",
       "   Comment  \n",
       "0           \n",
       "1           \n",
       "2           \n",
       "3           \n",
       "4           \n",
       "5           \n",
       "6           \n",
       "7           \n",
       "8           \n",
       "9           \n",
       "10          \n",
       "11          \n",
       "12          \n",
       "13          "
      ]
     },
     "execution_count": 13,
     "metadata": {},
     "output_type": "execute_result"
    }
   ],
   "source": [
    "job_lammps.input.control"
   ]
  },
  {
   "cell_type": "code",
   "execution_count": 14,
   "metadata": {},
   "outputs": [],
   "source": [
    "job_lammps.calc_md(temperature=500.0)"
   ]
  },
  {
   "cell_type": "code",
   "execution_count": 15,
   "metadata": {},
   "outputs": [
    {
     "data": {
      "text/html": [
       "<div>\n",
       "<style scoped>\n",
       "    .dataframe tbody tr th:only-of-type {\n",
       "        vertical-align: middle;\n",
       "    }\n",
       "\n",
       "    .dataframe tbody tr th {\n",
       "        vertical-align: top;\n",
       "    }\n",
       "\n",
       "    .dataframe thead th {\n",
       "        text-align: right;\n",
       "    }\n",
       "</style>\n",
       "<table border=\"1\" class=\"dataframe\">\n",
       "  <thead>\n",
       "    <tr style=\"text-align: right;\">\n",
       "      <th></th>\n",
       "      <th>Parameter</th>\n",
       "      <th>Value</th>\n",
       "      <th>Comment</th>\n",
       "    </tr>\n",
       "  </thead>\n",
       "  <tbody>\n",
       "    <tr>\n",
       "      <th>0</th>\n",
       "      <td>units</td>\n",
       "      <td>metal</td>\n",
       "      <td></td>\n",
       "    </tr>\n",
       "    <tr>\n",
       "      <th>1</th>\n",
       "      <td>dimension</td>\n",
       "      <td>3</td>\n",
       "      <td></td>\n",
       "    </tr>\n",
       "    <tr>\n",
       "      <th>2</th>\n",
       "      <td>boundary</td>\n",
       "      <td>p p p</td>\n",
       "      <td></td>\n",
       "    </tr>\n",
       "    <tr>\n",
       "      <th>3</th>\n",
       "      <td>atom_style</td>\n",
       "      <td>atomic</td>\n",
       "      <td></td>\n",
       "    </tr>\n",
       "    <tr>\n",
       "      <th>4</th>\n",
       "      <td>read_data</td>\n",
       "      <td>structure.inp</td>\n",
       "      <td></td>\n",
       "    </tr>\n",
       "    <tr>\n",
       "      <th>5</th>\n",
       "      <td>include</td>\n",
       "      <td>potential.inp</td>\n",
       "      <td></td>\n",
       "    </tr>\n",
       "    <tr>\n",
       "      <th>6</th>\n",
       "      <td>fix___ensemble</td>\n",
       "      <td>all nvt temp 500.0 500.0 0.1</td>\n",
       "      <td></td>\n",
       "    </tr>\n",
       "    <tr>\n",
       "      <th>7</th>\n",
       "      <td>variable___dumptime</td>\n",
       "      <td>equal 100</td>\n",
       "      <td></td>\n",
       "    </tr>\n",
       "    <tr>\n",
       "      <th>8</th>\n",
       "      <td>dump___1</td>\n",
       "      <td>all custom ${dumptime} dump.out id type xsu ysu zsu fx fy fz</td>\n",
       "      <td></td>\n",
       "    </tr>\n",
       "    <tr>\n",
       "      <th>9</th>\n",
       "      <td>dump_modify___1</td>\n",
       "      <td>sort id format line \"%d %d %20.15g %20.15g %20.15g %20.15g %20.15g %20.15g\"</td>\n",
       "      <td></td>\n",
       "    </tr>\n",
       "    <tr>\n",
       "      <th>10</th>\n",
       "      <td>thermo_style</td>\n",
       "      <td>custom step temp pe etotal pxx pxy pxz pyy pyz pzz vol</td>\n",
       "      <td></td>\n",
       "    </tr>\n",
       "    <tr>\n",
       "      <th>11</th>\n",
       "      <td>thermo_modify</td>\n",
       "      <td>format float %20.15g</td>\n",
       "      <td></td>\n",
       "    </tr>\n",
       "    <tr>\n",
       "      <th>12</th>\n",
       "      <td>thermo</td>\n",
       "      <td>100</td>\n",
       "      <td></td>\n",
       "    </tr>\n",
       "    <tr>\n",
       "      <th>13</th>\n",
       "      <td>timestep</td>\n",
       "      <td>0.001</td>\n",
       "      <td></td>\n",
       "    </tr>\n",
       "    <tr>\n",
       "      <th>14</th>\n",
       "      <td>velocity</td>\n",
       "      <td>all create 1000.0 69850 dist gaussian</td>\n",
       "      <td></td>\n",
       "    </tr>\n",
       "    <tr>\n",
       "      <th>15</th>\n",
       "      <td>run</td>\n",
       "      <td>1000</td>\n",
       "      <td></td>\n",
       "    </tr>\n",
       "  </tbody>\n",
       "</table>\n",
       "</div>"
      ],
      "text/plain": [
       "              Parameter  \\\n",
       "0                 units   \n",
       "1             dimension   \n",
       "2              boundary   \n",
       "3            atom_style   \n",
       "4             read_data   \n",
       "5               include   \n",
       "6        fix___ensemble   \n",
       "7   variable___dumptime   \n",
       "8              dump___1   \n",
       "9       dump_modify___1   \n",
       "10         thermo_style   \n",
       "11        thermo_modify   \n",
       "12               thermo   \n",
       "13             timestep   \n",
       "14             velocity   \n",
       "15                  run   \n",
       "\n",
       "                                                                          Value  \\\n",
       "0                                                                         metal   \n",
       "1                                                                             3   \n",
       "2                                                                         p p p   \n",
       "3                                                                        atomic   \n",
       "4                                                                 structure.inp   \n",
       "5                                                                 potential.inp   \n",
       "6                                                  all nvt temp 500.0 500.0 0.1   \n",
       "7                                                                    equal 100    \n",
       "8                  all custom ${dumptime} dump.out id type xsu ysu zsu fx fy fz   \n",
       "9   sort id format line \"%d %d %20.15g %20.15g %20.15g %20.15g %20.15g %20.15g\"   \n",
       "10                       custom step temp pe etotal pxx pxy pxz pyy pyz pzz vol   \n",
       "11                                                         format float %20.15g   \n",
       "12                                                                          100   \n",
       "13                                                                        0.001   \n",
       "14                                        all create 1000.0 69850 dist gaussian   \n",
       "15                                                                         1000   \n",
       "\n",
       "   Comment  \n",
       "0           \n",
       "1           \n",
       "2           \n",
       "3           \n",
       "4           \n",
       "5           \n",
       "6           \n",
       "7           \n",
       "8           \n",
       "9           \n",
       "10          \n",
       "11          \n",
       "12          \n",
       "13          \n",
       "14          \n",
       "15          "
      ]
     },
     "execution_count": 15,
     "metadata": {},
     "output_type": "execute_result"
    }
   ],
   "source": [
    "job_lammps.input.control"
   ]
  },
  {
   "cell_type": "code",
   "execution_count": 16,
   "metadata": {},
   "outputs": [
    {
     "name": "stdout",
     "output_type": "stream",
     "text": [
      "The job job_lammps_1 was saved and received the ID: 1\n"
     ]
    }
   ],
   "source": [
    "job_lammps.run()"
   ]
  },
  {
   "cell_type": "code",
   "execution_count": 17,
   "metadata": {},
   "outputs": [
    {
     "data": {
      "text/html": [
       "<div>\n",
       "<style scoped>\n",
       "    .dataframe tbody tr th:only-of-type {\n",
       "        vertical-align: middle;\n",
       "    }\n",
       "\n",
       "    .dataframe tbody tr th {\n",
       "        vertical-align: top;\n",
       "    }\n",
       "\n",
       "    .dataframe thead th {\n",
       "        text-align: right;\n",
       "    }\n",
       "</style>\n",
       "<table border=\"1\" class=\"dataframe\">\n",
       "  <thead>\n",
       "    <tr style=\"text-align: right;\">\n",
       "      <th></th>\n",
       "      <th>id</th>\n",
       "      <th>status</th>\n",
       "      <th>chemicalformula</th>\n",
       "      <th>job</th>\n",
       "      <th>subjob</th>\n",
       "      <th>projectpath</th>\n",
       "      <th>project</th>\n",
       "      <th>timestart</th>\n",
       "      <th>timestop</th>\n",
       "      <th>totalcputime</th>\n",
       "      <th>computer</th>\n",
       "      <th>hamilton</th>\n",
       "      <th>hamversion</th>\n",
       "      <th>parentid</th>\n",
       "      <th>masterid</th>\n",
       "    </tr>\n",
       "  </thead>\n",
       "  <tbody>\n",
       "    <tr>\n",
       "      <th>0</th>\n",
       "      <td>1</td>\n",
       "      <td>finished</td>\n",
       "      <td>Al4</td>\n",
       "      <td>job_lammps_1</td>\n",
       "      <td>/job_lammps_1</td>\n",
       "      <td>/Users/jan/pyiron/projects/</td>\n",
       "      <td>2019/2019-12-11-lanl-tutorial/demonstration/</td>\n",
       "      <td>2019-12-10 16:45:41.117157</td>\n",
       "      <td>2019-12-10 16:45:42.227282</td>\n",
       "      <td>1.0</td>\n",
       "      <td>pyiron@MacBook-Pro.local#1</td>\n",
       "      <td>Lammps</td>\n",
       "      <td>0.1</td>\n",
       "      <td>None</td>\n",
       "      <td>None</td>\n",
       "    </tr>\n",
       "  </tbody>\n",
       "</table>\n",
       "</div>"
      ],
      "text/plain": [
       "   id    status chemicalformula           job         subjob  \\\n",
       "0   1  finished             Al4  job_lammps_1  /job_lammps_1   \n",
       "\n",
       "                   projectpath                                       project  \\\n",
       "0  /Users/jan/pyiron/projects/  2019/2019-12-11-lanl-tutorial/demonstration/   \n",
       "\n",
       "                   timestart                   timestop  totalcputime  \\\n",
       "0 2019-12-10 16:45:41.117157 2019-12-10 16:45:42.227282           1.0   \n",
       "\n",
       "                     computer hamilton hamversion parentid masterid  \n",
       "0  pyiron@MacBook-Pro.local#1   Lammps        0.1     None     None  "
      ]
     },
     "execution_count": 17,
     "metadata": {},
     "output_type": "execute_result"
    }
   ],
   "source": [
    "pr.job_table()"
   ]
  },
  {
   "cell_type": "markdown",
   "metadata": {},
   "source": [
    "## Analyse the job"
   ]
  },
  {
   "cell_type": "code",
   "execution_count": 18,
   "metadata": {},
   "outputs": [
    {
     "data": {
      "text/plain": [
       "{'groups': ['generic', 'structure'], 'nodes': []}"
      ]
     },
     "execution_count": 18,
     "metadata": {},
     "output_type": "execute_result"
    }
   ],
   "source": [
    "job_lammps['output']"
   ]
  },
  {
   "cell_type": "code",
   "execution_count": 19,
   "metadata": {},
   "outputs": [
    {
     "data": {
      "text/plain": [
       "{'groups': [], 'nodes': ['cells', 'energy_pot', 'energy_tot', 'forces', 'indices', 'positions', 'pressures', 'steps', 'temperature', 'time', 'unwrapped_positions', 'volume']}"
      ]
     },
     "execution_count": 19,
     "metadata": {},
     "output_type": "execute_result"
    }
   ],
   "source": [
    "job_lammps['output/generic']"
   ]
  },
  {
   "cell_type": "code",
   "execution_count": 20,
   "metadata": {},
   "outputs": [
    {
     "data": {
      "text/plain": [
       "array([-13.25465158, -13.26236025, -13.28059441, -13.32368955,\n",
       "       -13.34831865, -13.29381065, -13.12583368, -13.04368461,\n",
       "       -13.31347524, -13.40208388, -13.35984575])"
      ]
     },
     "execution_count": 20,
     "metadata": {},
     "output_type": "execute_result"
    }
   ],
   "source": [
    "job_lammps['output/generic/energy_tot']"
   ]
  },
  {
   "cell_type": "code",
   "execution_count": 21,
   "metadata": {},
   "outputs": [],
   "source": [
    "import matplotlib.pyplot as plt"
   ]
  },
  {
   "cell_type": "code",
   "execution_count": 22,
   "metadata": {},
   "outputs": [
    {
     "data": {
      "text/plain": [
       "[<matplotlib.lines.Line2D at 0x181d656160>]"
      ]
     },
     "execution_count": 22,
     "metadata": {},
     "output_type": "execute_result"
    },
    {
     "data": {
      "image/png": "[encoded data removed]",
      "text/plain": [
       "<Figure size 432x288 with 1 Axes>"
      ]
     },
     "metadata": {
      "needs_background": "light"
     },
     "output_type": "display_data"
    }
   ],
   "source": [
    "plt.plot(job_lammps['output/generic/energy_tot'])"
   ]
  },
  {
   "cell_type": "code",
   "execution_count": 23,
   "metadata": {},
   "outputs": [
    {
     "data": {
      "text/plain": [
       "array([-13.25465158, -13.26236025, -13.28059441, -13.32368955,\n",
       "       -13.34831865, -13.29381065, -13.12583368, -13.04368461,\n",
       "       -13.31347524, -13.40208388, -13.35984575])"
      ]
     },
     "execution_count": 23,
     "metadata": {},
     "output_type": "execute_result"
    }
   ],
   "source": [
    "pr['job_lammps_1/output/generic/energy_tot']  # access from the project level "
   ]
  },
  {
   "cell_type": "markdown",
   "metadata": {},
   "source": [
    "# Advanced users"
   ]
  },
  {
   "cell_type": "code",
   "execution_count": 24,
   "metadata": {},
   "outputs": [
    {
     "data": {
      "text/plain": [
       "['2018.03.13',\n",
       " '2018.03.13_mpi',\n",
       " '2019.06.05',\n",
       " '2019.06.05_default',\n",
       " '2019.06.05_default_mpi',\n",
       " '2019.06.05_mpi']"
      ]
     },
     "execution_count": 24,
     "metadata": {},
     "output_type": "execute_result"
    }
   ],
   "source": [
    "job_lammps.executable.list_executables()"
   ]
  },
  {
   "cell_type": "code",
   "execution_count": 25,
   "metadata": {},
   "outputs": [],
   "source": [
    "job_lammps.server.list_queues()"
   ]
  },
  {
   "cell_type": "code",
   "execution_count": 26,
   "metadata": {},
   "outputs": [],
   "source": [
    "job_lammps.server.view_queues()"
   ]
  },
  {
   "cell_type": "code",
   "execution_count": 27,
   "metadata": {},
   "outputs": [
    {
     "data": {
      "text/plain": [
       "1"
      ]
     },
     "execution_count": 27,
     "metadata": {},
     "output_type": "execute_result"
    }
   ],
   "source": [
    "job_lammps.server.cores"
   ]
  },
  {
   "cell_type": "code",
   "execution_count": 28,
   "metadata": {},
   "outputs": [
    {
     "data": {
      "text/plain": [
       "'/Users/jan/pyiron/projects/2019/2019-12-11-lanl-tutorial/demonstration/job_lammps_1_hdf5/job_lammps_1'"
      ]
     },
     "execution_count": 28,
     "metadata": {},
     "output_type": "execute_result"
    }
   ],
   "source": [
    "job_lammps.working_directory"
   ]
  },
  {
   "cell_type": "code",
   "execution_count": 29,
   "metadata": {},
   "outputs": [],
   "source": [
    "import os"
   ]
  },
  {
   "cell_type": "code",
   "execution_count": 30,
   "metadata": {},
   "outputs": [
    {
     "data": {
      "text/plain": [
       "['job_lammps_1.tar.bz2']"
      ]
     },
     "execution_count": 30,
     "metadata": {},
     "output_type": "execute_result"
    }
   ],
   "source": [
    "os.listdir(job_lammps.working_directory)"
   ]
  },
  {
   "cell_type": "code",
   "execution_count": 31,
   "metadata": {},
   "outputs": [],
   "source": [
    "job_lammps.decompress()"
   ]
  },
  {
   "cell_type": "code",
   "execution_count": 32,
   "metadata": {},
   "outputs": [
    {
     "data": {
      "text/plain": [
       "['LAMMPS (12 Dec 2018)\\n',\n",
       " 'units metal\\n',\n",
       " 'dimension 3\\n',\n",
       " 'boundary p p p\\n',\n",
       " 'atom_style atomic\\n',\n",
       " 'read_data structure.inp\\n',\n",
       " '  orthogonal box = (0 0 0) to (4.05 4.05 4.05)\\n',\n",
       " '  1 by 1 by 1 MPI processor grid\\n',\n",
       " '  reading atoms ...\\n',\n",
       " '  4 atoms\\n',\n",
       " 'include potential.inp\\n',\n",
       " 'pair_style eam/fs\\n',\n",
       " 'pair_coeff * * Al-Mg.eam.fs Al Mg\\n',\n",
       " 'fix ensemble all nvt temp 500.0 500.0 0.1\\n',\n",
       " 'variable dumptime  equal 100\\n',\n",
       " 'dump 1 all custom ${dumptime} dump.out id type xsu ysu zsu fx fy fz\\n',\n",
       " 'dump 1 all custom 100 dump.out id type xsu ysu zsu fx fy fz\\n',\n",
       " 'dump_modify 1 sort id format line \"%d %d %20.15g %20.15g %20.15g %20.15g %20.15g %20.15g\"\\n',\n",
       " 'thermo_style custom step temp pe etotal pxx pxy pxz pyy pyz pzz vol\\n',\n",
       " 'thermo_modify format float %20.15g\\n',\n",
       " 'thermo 100\\n',\n",
       " 'timestep 0.001\\n',\n",
       " 'velocity all create 1000.0 69850 dist gaussian\\n',\n",
       " 'run 1000\\n',\n",
       " 'Neighbor list info ...\\n',\n",
       " '  update every 1 steps, delay 10 steps, check yes\\n',\n",
       " '  max neighbors/atom: 2000, page size: 100000\\n',\n",
       " '  master list distance cutoff = 9.5\\n',\n",
       " '  ghost atom cutoff = 9.5\\n',\n",
       " '  binsize = 4.75, bins = 1 1 1\\n',\n",
       " '  1 neighbor lists, perpetual/occasional/extra = 1 0 0\\n',\n",
       " '  (1) pair eam/fs, perpetual\\n',\n",
       " '      attributes: half, newton on\\n',\n",
       " '      pair build: half/bin/atomonly/newton\\n',\n",
       " '      stencil: half/bin/3d/newton\\n',\n",
       " '      bin: standard\\n',\n",
       " 'Per MPI rank memory allocation (min/avg/max) = 4.239 | 4.239 | 4.239 Mbytes\\n',\n",
       " 'Step Temp PotEng TotEng Pxx Pxy Pxz Pyy Pyz Pzz Volume \\n',\n",
       " '       0                 1000    -13.6424320128801    -13.2546515778801     5811.33462729831    -3854.45323119228     4356.39016846107    -621.038748887569    -3077.46758636693     5449.79641578524            66.430125 \\n',\n",
       " '     100     582.702306216562     -13.488320803082    -13.2623602493018     19272.5377390592    -390.766475669868     2757.48338360488     9211.21496855956    -1233.24087106805      20576.512738308            66.430125 \\n',\n",
       " '     200     229.499909382055    -13.3695899865347     -13.280594411842     25943.6408840172     4620.70985553081     -8607.5938021931     18185.1604277357     6698.31327794928     26575.2066462819            66.430125 \\n',\n",
       " '     300     381.825966704387    -13.4717541868408    -13.3236895473779     17597.3621704412    -2743.39182369787     1385.28892745806     13390.2979126485    -4754.40391555897     13684.2202362752            66.430125 \\n',\n",
       " '     400     336.258885851182    -13.4787132640351    -13.3483186470071     17870.8695466749    -2504.70721458531     8843.16879976338     9944.51929893634    -2623.19083524125     14930.8267228197            66.430125 \\n',\n",
       " '     500     287.501175962573    -13.4052979855416    -13.2938106544638     25259.7112976147     4724.84954980852    -8900.40051839842     13595.1592660193     6226.00430337782     24550.1515923481            66.430125 \\n',\n",
       " '     600     865.064860239937    -13.4612889069809    -13.1258336791739     24343.5962942228    -1305.18067771662     794.753669567708     13963.5152002367     -3413.9118731816     22673.6060830145            66.430125 \\n',\n",
       " '     700     1315.51010517474    -13.5538136878024    -13.0436846069708     16210.5856085173    -4189.01790374302     3662.53956623732     6468.86899554838    -3776.44149636939     19954.3359727284            66.430125 \\n',\n",
       " '     800      477.09117767078    -13.4984818611194    -13.3134752367076     15747.1976916114    -1146.62076630565     3304.31002208207     7208.19322475629     303.296003552599     20358.8715618705            66.430125 \\n',\n",
       " '     900     243.647362387788     -13.496565562211    -13.4020838820376     14738.1319281338     3751.97995779621    -2581.61806526022     9943.92404767703     3478.19973832365      14550.996643728            66.430125 \\n',\n",
       " '    1000     341.965008370376    -13.4924530913355    -13.3598457516349     15276.6481344145    -3114.46187560016    -3090.62935058231     10951.0986282076    -3697.02333680484     12857.9925810629            66.430125 \\n',\n",
       " 'Loop time of 0.0341671 on 1 procs for 1000 steps with 4 atoms\\n',\n",
       " '\\n',\n",
       " 'Performance: 2528.752 ns/day, 0.009 hours/ns, 29267.963 timesteps/s\\n',\n",
       " '86.7% CPU use with 1 MPI tasks x no OpenMP threads\\n',\n",
       " '\\n',\n",
       " 'MPI task timing breakdown:\\n',\n",
       " 'Section |  min time  |  avg time  |  max time  |%varavg| %total\\n',\n",
       " '---------------------------------------------------------------\\n',\n",
       " 'Pair    | 0.024069   | 0.024069   | 0.024069   |   0.0 | 70.44\\n',\n",
       " 'Neigh   | 0          | 0          | 0          |   0.0 |  0.00\\n',\n",
       " 'Comm    | 0.0072689  | 0.0072689  | 0.0072689  |   0.0 | 21.27\\n',\n",
       " 'Output  | 0.0011375  | 0.0011375  | 0.0011375  |   0.0 |  3.33\\n',\n",
       " 'Modify  | 0.00082731 | 0.00082731 | 0.00082731 |   0.0 |  2.42\\n',\n",
       " 'Other   |            | 0.0008647  |            |       |  2.53\\n',\n",
       " '\\n',\n",
       " 'Nlocal:    4 ave 4 max 4 min\\n',\n",
       " 'Histogram: 1 0 0 0 0 0 0 0 0 0\\n',\n",
       " 'Nghost:    662 ave 662 max 662 min\\n',\n",
       " 'Histogram: 1 0 0 0 0 0 0 0 0 0\\n',\n",
       " 'Neighs:    448 ave 448 max 448 min\\n',\n",
       " 'Histogram: 1 0 0 0 0 0 0 0 0 0\\n',\n",
       " '\\n',\n",
       " 'Total # of neighbors = 448\\n',\n",
       " 'Ave neighs/atom = 112\\n',\n",
       " 'Neighbor list builds = 0\\n',\n",
       " 'Dangerous builds = 0\\n',\n",
       " 'Total wall time: 0:00:00\\n']"
      ]
     },
     "execution_count": 32,
     "metadata": {},
     "output_type": "execute_result"
    }
   ],
   "source": [
    "job_lammps['log.lammps']  # Add you own parser for additional output "
   ]
  },
  {
   "cell_type": "markdown",
   "metadata": {},
   "source": [
    "# Master jobs - multiple jobs in one job object"
   ]
  },
  {
   "cell_type": "code",
   "execution_count": 33,
   "metadata": {},
   "outputs": [],
   "source": [
    "job_lammps_template = pr.create_job(pr.job_type.Lammps, 'job_lammps_template')"
   ]
  },
  {
   "cell_type": "code",
   "execution_count": 34,
   "metadata": {},
   "outputs": [],
   "source": [
    "job_lammps_template.structure = structure"
   ]
  },
  {
   "cell_type": "code",
   "execution_count": 35,
   "metadata": {},
   "outputs": [],
   "source": [
    "job_lammps_template.potential = 'Al_Mg_Mendelev_eam'"
   ]
  },
  {
   "cell_type": "code",
   "execution_count": 36,
   "metadata": {},
   "outputs": [],
   "source": [
    "murn = job_lammps_template.create_job(pr.job_type.Murnaghan, 'murn')"
   ]
  },
  {
   "cell_type": "code",
   "execution_count": 37,
   "metadata": {},
   "outputs": [
    {
     "data": {
      "text/html": [
       "<div>\n",
       "<style scoped>\n",
       "    .dataframe tbody tr th:only-of-type {\n",
       "        vertical-align: middle;\n",
       "    }\n",
       "\n",
       "    .dataframe tbody tr th {\n",
       "        vertical-align: top;\n",
       "    }\n",
       "\n",
       "    .dataframe thead th {\n",
       "        text-align: right;\n",
       "    }\n",
       "</style>\n",
       "<table border=\"1\" class=\"dataframe\">\n",
       "  <thead>\n",
       "    <tr style=\"text-align: right;\">\n",
       "      <th></th>\n",
       "      <th>Parameter</th>\n",
       "      <th>Value</th>\n",
       "      <th>Comment</th>\n",
       "    </tr>\n",
       "  </thead>\n",
       "  <tbody>\n",
       "    <tr>\n",
       "      <th>0</th>\n",
       "      <td>num_points</td>\n",
       "      <td>11</td>\n",
       "      <td>number of sample points</td>\n",
       "    </tr>\n",
       "    <tr>\n",
       "      <th>1</th>\n",
       "      <td>fit_type</td>\n",
       "      <td>polynomial</td>\n",
       "      <td>['polynomial', 'birch', 'birchmurnaghan', 'murnaghan', 'pouriertarantola', 'vinet']</td>\n",
       "    </tr>\n",
       "    <tr>\n",
       "      <th>2</th>\n",
       "      <td>fit_order</td>\n",
       "      <td>3</td>\n",
       "      <td>order of the fit polynom</td>\n",
       "    </tr>\n",
       "    <tr>\n",
       "      <th>3</th>\n",
       "      <td>vol_range</td>\n",
       "      <td>0.1</td>\n",
       "      <td>relative volume variation around volume defined by ref_ham</td>\n",
       "    </tr>\n",
       "  </tbody>\n",
       "</table>\n",
       "</div>"
      ],
      "text/plain": [
       "    Parameter       Value  \\\n",
       "0  num_points          11   \n",
       "1    fit_type  polynomial   \n",
       "2   fit_order           3   \n",
       "3   vol_range         0.1   \n",
       "\n",
       "                                                                               Comment  \n",
       "0                                                              number of sample points  \n",
       "1  ['polynomial', 'birch', 'birchmurnaghan', 'murnaghan', 'pouriertarantola', 'vinet']  \n",
       "2                                                             order of the fit polynom  \n",
       "3                           relative volume variation around volume defined by ref_ham  "
      ]
     },
     "execution_count": 37,
     "metadata": {},
     "output_type": "execute_result"
    }
   ],
   "source": [
    "murn.input"
   ]
  },
  {
   "cell_type": "code",
   "execution_count": 38,
   "metadata": {},
   "outputs": [
    {
     "name": "stdout",
     "output_type": "stream",
     "text": [
      "The job murn was saved and received the ID: 2\n",
      "The job strain_0_9 was saved and received the ID: 3\n",
      "The job strain_0_92 was saved and received the ID: 4\n",
      "The job strain_0_94 was saved and received the ID: 5\n",
      "The job strain_0_96 was saved and received the ID: 6\n",
      "The job strain_0_98 was saved and received the ID: 7\n",
      "The job strain_1_0 was saved and received the ID: 8\n",
      "The job strain_1_02 was saved and received the ID: 9\n",
      "The job strain_1_04 was saved and received the ID: 10\n",
      "The job strain_1_06 was saved and received the ID: 11\n",
      "The job strain_1_08 was saved and received the ID: 12\n",
      "The job strain_1_1 was saved and received the ID: 13\n",
      "job_id:  3 finished\n",
      "job_id:  4 finished\n",
      "job_id:  5 finished\n",
      "job_id:  6 finished\n",
      "job_id:  7 finished\n",
      "job_id:  8 finished\n",
      "job_id:  9 finished\n",
      "job_id:  10 finished\n",
      "job_id:  11 finished\n",
      "job_id:  12 finished\n",
      "job_id:  13 finished\n"
     ]
    }
   ],
   "source": [
    "murn.run()"
   ]
  },
  {
   "cell_type": "code",
   "execution_count": 39,
   "metadata": {},
   "outputs": [
    {
     "data": {
      "image/png": "[encoded data removed]",
      "text/plain": [
       "<Figure size 432x288 with 1 Axes>"
      ]
     },
     "metadata": {
      "needs_background": "light"
     },
     "output_type": "display_data"
    }
   ],
   "source": [
    "murn.plot()"
   ]
  },
  {
   "cell_type": "code",
   "execution_count": 40,
   "metadata": {},
   "outputs": [
    {
     "data": {
      "text/plain": [
       "{'groups': ['structure'], 'nodes': ['energy', 'equilibrium_b_prime', 'equilibrium_bulk_modulus', 'equilibrium_energy', 'equilibrium_volume', 'error', 'id', 'volume']}"
      ]
     },
     "execution_count": 40,
     "metadata": {},
     "output_type": "execute_result"
    }
   ],
   "source": [
    "murn['output']"
   ]
  },
  {
   "cell_type": "code",
   "execution_count": 41,
   "metadata": {},
   "outputs": [
    {
     "data": {
      "text/plain": [
       "[<matplotlib.lines.Line2D at 0x181d228e10>]"
      ]
     },
     "execution_count": 41,
     "metadata": {},
     "output_type": "execute_result"
    },
    {
     "data": {
      "image/png": "[encoded data removed]",
      "text/plain": [
       "<Figure size 432x288 with 1 Axes>"
      ]
     },
     "metadata": {
      "needs_background": "light"
     },
     "output_type": "display_data"
    }
   ],
   "source": [
    "plt.plot(murn['output/volume'], murn['output/energy'])"
   ]
  },
  {
   "cell_type": "code",
   "execution_count": 42,
   "metadata": {},
   "outputs": [
    {
     "data": {
      "text/html": [
       "<div>\n",
       "<style scoped>\n",
       "    .dataframe tbody tr th:only-of-type {\n",
       "        vertical-align: middle;\n",
       "    }\n",
       "\n",
       "    .dataframe tbody tr th {\n",
       "        vertical-align: top;\n",
       "    }\n",
       "\n",
       "    .dataframe thead th {\n",
       "        text-align: right;\n",
       "    }\n",
       "</style>\n",
       "<table border=\"1\" class=\"dataframe\">\n",
       "  <thead>\n",
       "    <tr style=\"text-align: right;\">\n",
       "      <th></th>\n",
       "      <th>id</th>\n",
       "      <th>status</th>\n",
       "      <th>chemicalformula</th>\n",
       "      <th>job</th>\n",
       "      <th>subjob</th>\n",
       "      <th>projectpath</th>\n",
       "      <th>project</th>\n",
       "      <th>timestart</th>\n",
       "      <th>timestop</th>\n",
       "      <th>totalcputime</th>\n",
       "      <th>computer</th>\n",
       "      <th>hamilton</th>\n",
       "      <th>hamversion</th>\n",
       "      <th>parentid</th>\n",
       "      <th>masterid</th>\n",
       "    </tr>\n",
       "  </thead>\n",
       "  <tbody>\n",
       "    <tr>\n",
       "      <th>0</th>\n",
       "      <td>1</td>\n",
       "      <td>finished</td>\n",
       "      <td>Al4</td>\n",
       "      <td>job_lammps_1</td>\n",
       "      <td>/job_lammps_1</td>\n",
       "      <td>/Users/jan/pyiron/projects/</td>\n",
       "      <td>2019/2019-12-11-lanl-tutorial/demonstration/</td>\n",
       "      <td>2019-12-10 16:45:41.117157</td>\n",
       "      <td>2019-12-10 16:45:42.227282</td>\n",
       "      <td>1.0</td>\n",
       "      <td>pyiron@MacBook-Pro.local#1</td>\n",
       "      <td>Lammps</td>\n",
       "      <td>0.1</td>\n",
       "      <td>None</td>\n",
       "      <td>NaN</td>\n",
       "    </tr>\n",
       "    <tr>\n",
       "      <th>1</th>\n",
       "      <td>2</td>\n",
       "      <td>finished</td>\n",
       "      <td>Al4</td>\n",
       "      <td>murn</td>\n",
       "      <td>/murn</td>\n",
       "      <td>/Users/jan/pyiron/projects/</td>\n",
       "      <td>2019/2019-12-11-lanl-tutorial/demonstration/</td>\n",
       "      <td>2019-12-10 16:45:44.863248</td>\n",
       "      <td>2019-12-10 16:46:06.707634</td>\n",
       "      <td>21.0</td>\n",
       "      <td>pyiron@MacBook-Pro.local#1#11/11</td>\n",
       "      <td>Murnaghan</td>\n",
       "      <td>0.3.0</td>\n",
       "      <td>None</td>\n",
       "      <td>NaN</td>\n",
       "    </tr>\n",
       "    <tr>\n",
       "      <th>2</th>\n",
       "      <td>3</td>\n",
       "      <td>finished</td>\n",
       "      <td>Al4</td>\n",
       "      <td>strain_0_9</td>\n",
       "      <td>/strain_0_9</td>\n",
       "      <td>/Users/jan/pyiron/projects/</td>\n",
       "      <td>2019/2019-12-11-lanl-tutorial/demonstration/murn_hdf5/</td>\n",
       "      <td>2019-12-10 16:45:46.793676</td>\n",
       "      <td>2019-12-10 16:45:47.391474</td>\n",
       "      <td>0.0</td>\n",
       "      <td>pyiron@MacBook-Pro.local#1</td>\n",
       "      <td>Lammps</td>\n",
       "      <td>0.1</td>\n",
       "      <td>None</td>\n",
       "      <td>2.0</td>\n",
       "    </tr>\n",
       "    <tr>\n",
       "      <th>3</th>\n",
       "      <td>4</td>\n",
       "      <td>finished</td>\n",
       "      <td>Al4</td>\n",
       "      <td>strain_0_92</td>\n",
       "      <td>/strain_0_92</td>\n",
       "      <td>/Users/jan/pyiron/projects/</td>\n",
       "      <td>2019/2019-12-11-lanl-tutorial/demonstration/murn_hdf5/</td>\n",
       "      <td>2019-12-10 16:45:48.755689</td>\n",
       "      <td>2019-12-10 16:45:49.608306</td>\n",
       "      <td>0.0</td>\n",
       "      <td>pyiron@MacBook-Pro.local#1</td>\n",
       "      <td>Lammps</td>\n",
       "      <td>0.1</td>\n",
       "      <td>None</td>\n",
       "      <td>2.0</td>\n",
       "    </tr>\n",
       "    <tr>\n",
       "      <th>4</th>\n",
       "      <td>5</td>\n",
       "      <td>finished</td>\n",
       "      <td>Al4</td>\n",
       "      <td>strain_0_94</td>\n",
       "      <td>/strain_0_94</td>\n",
       "      <td>/Users/jan/pyiron/projects/</td>\n",
       "      <td>2019/2019-12-11-lanl-tutorial/demonstration/murn_hdf5/</td>\n",
       "      <td>2019-12-10 16:45:50.988969</td>\n",
       "      <td>2019-12-10 16:45:51.454903</td>\n",
       "      <td>0.0</td>\n",
       "      <td>pyiron@MacBook-Pro.local#1</td>\n",
       "      <td>Lammps</td>\n",
       "      <td>0.1</td>\n",
       "      <td>None</td>\n",
       "      <td>2.0</td>\n",
       "    </tr>\n",
       "    <tr>\n",
       "      <th>5</th>\n",
       "      <td>6</td>\n",
       "      <td>finished</td>\n",
       "      <td>Al4</td>\n",
       "      <td>strain_0_96</td>\n",
       "      <td>/strain_0_96</td>\n",
       "      <td>/Users/jan/pyiron/projects/</td>\n",
       "      <td>2019/2019-12-11-lanl-tutorial/demonstration/murn_hdf5/</td>\n",
       "      <td>2019-12-10 16:45:52.878985</td>\n",
       "      <td>2019-12-10 16:45:53.487162</td>\n",
       "      <td>0.0</td>\n",
       "      <td>pyiron@MacBook-Pro.local#1</td>\n",
       "      <td>Lammps</td>\n",
       "      <td>0.1</td>\n",
       "      <td>None</td>\n",
       "      <td>2.0</td>\n",
       "    </tr>\n",
       "    <tr>\n",
       "      <th>6</th>\n",
       "      <td>7</td>\n",
       "      <td>finished</td>\n",
       "      <td>Al4</td>\n",
       "      <td>strain_0_98</td>\n",
       "      <td>/strain_0_98</td>\n",
       "      <td>/Users/jan/pyiron/projects/</td>\n",
       "      <td>2019/2019-12-11-lanl-tutorial/demonstration/murn_hdf5/</td>\n",
       "      <td>2019-12-10 16:45:54.925316</td>\n",
       "      <td>2019-12-10 16:45:55.340213</td>\n",
       "      <td>0.0</td>\n",
       "      <td>pyiron@MacBook-Pro.local#1</td>\n",
       "      <td>Lammps</td>\n",
       "      <td>0.1</td>\n",
       "      <td>None</td>\n",
       "      <td>2.0</td>\n",
       "    </tr>\n",
       "    <tr>\n",
       "      <th>7</th>\n",
       "      <td>8</td>\n",
       "      <td>finished</td>\n",
       "      <td>Al4</td>\n",
       "      <td>strain_1_0</td>\n",
       "      <td>/strain_1_0</td>\n",
       "      <td>/Users/jan/pyiron/projects/</td>\n",
       "      <td>2019/2019-12-11-lanl-tutorial/demonstration/murn_hdf5/</td>\n",
       "      <td>2019-12-10 16:45:56.551747</td>\n",
       "      <td>2019-12-10 16:45:56.977871</td>\n",
       "      <td>0.0</td>\n",
       "      <td>pyiron@MacBook-Pro.local#1</td>\n",
       "      <td>Lammps</td>\n",
       "      <td>0.1</td>\n",
       "      <td>None</td>\n",
       "      <td>2.0</td>\n",
       "    </tr>\n",
       "    <tr>\n",
       "      <th>8</th>\n",
       "      <td>9</td>\n",
       "      <td>finished</td>\n",
       "      <td>Al4</td>\n",
       "      <td>strain_1_02</td>\n",
       "      <td>/strain_1_02</td>\n",
       "      <td>/Users/jan/pyiron/projects/</td>\n",
       "      <td>2019/2019-12-11-lanl-tutorial/demonstration/murn_hdf5/</td>\n",
       "      <td>2019-12-10 16:45:58.426541</td>\n",
       "      <td>2019-12-10 16:45:58.915650</td>\n",
       "      <td>0.0</td>\n",
       "      <td>pyiron@MacBook-Pro.local#1</td>\n",
       "      <td>Lammps</td>\n",
       "      <td>0.1</td>\n",
       "      <td>None</td>\n",
       "      <td>2.0</td>\n",
       "    </tr>\n",
       "    <tr>\n",
       "      <th>9</th>\n",
       "      <td>10</td>\n",
       "      <td>finished</td>\n",
       "      <td>Al4</td>\n",
       "      <td>strain_1_04</td>\n",
       "      <td>/strain_1_04</td>\n",
       "      <td>/Users/jan/pyiron/projects/</td>\n",
       "      <td>2019/2019-12-11-lanl-tutorial/demonstration/murn_hdf5/</td>\n",
       "      <td>2019-12-10 16:46:00.400515</td>\n",
       "      <td>2019-12-10 16:46:01.180575</td>\n",
       "      <td>0.0</td>\n",
       "      <td>pyiron@MacBook-Pro.local#1</td>\n",
       "      <td>Lammps</td>\n",
       "      <td>0.1</td>\n",
       "      <td>None</td>\n",
       "      <td>2.0</td>\n",
       "    </tr>\n",
       "    <tr>\n",
       "      <th>10</th>\n",
       "      <td>11</td>\n",
       "      <td>finished</td>\n",
       "      <td>Al4</td>\n",
       "      <td>strain_1_06</td>\n",
       "      <td>/strain_1_06</td>\n",
       "      <td>/Users/jan/pyiron/projects/</td>\n",
       "      <td>2019/2019-12-11-lanl-tutorial/demonstration/murn_hdf5/</td>\n",
       "      <td>2019-12-10 16:46:02.470651</td>\n",
       "      <td>2019-12-10 16:46:02.930345</td>\n",
       "      <td>0.0</td>\n",
       "      <td>pyiron@MacBook-Pro.local#1</td>\n",
       "      <td>Lammps</td>\n",
       "      <td>0.1</td>\n",
       "      <td>None</td>\n",
       "      <td>2.0</td>\n",
       "    </tr>\n",
       "    <tr>\n",
       "      <th>11</th>\n",
       "      <td>12</td>\n",
       "      <td>finished</td>\n",
       "      <td>Al4</td>\n",
       "      <td>strain_1_08</td>\n",
       "      <td>/strain_1_08</td>\n",
       "      <td>/Users/jan/pyiron/projects/</td>\n",
       "      <td>2019/2019-12-11-lanl-tutorial/demonstration/murn_hdf5/</td>\n",
       "      <td>2019-12-10 16:46:04.100879</td>\n",
       "      <td>2019-12-10 16:46:04.556366</td>\n",
       "      <td>0.0</td>\n",
       "      <td>pyiron@MacBook-Pro.local#1</td>\n",
       "      <td>Lammps</td>\n",
       "      <td>0.1</td>\n",
       "      <td>None</td>\n",
       "      <td>2.0</td>\n",
       "    </tr>\n",
       "    <tr>\n",
       "      <th>12</th>\n",
       "      <td>13</td>\n",
       "      <td>finished</td>\n",
       "      <td>Al4</td>\n",
       "      <td>strain_1_1</td>\n",
       "      <td>/strain_1_1</td>\n",
       "      <td>/Users/jan/pyiron/projects/</td>\n",
       "      <td>2019/2019-12-11-lanl-tutorial/demonstration/murn_hdf5/</td>\n",
       "      <td>2019-12-10 16:46:05.672669</td>\n",
       "      <td>2019-12-10 16:46:06.074122</td>\n",
       "      <td>0.0</td>\n",
       "      <td>pyiron@MacBook-Pro.local#1</td>\n",
       "      <td>Lammps</td>\n",
       "      <td>0.1</td>\n",
       "      <td>None</td>\n",
       "      <td>2.0</td>\n",
       "    </tr>\n",
       "  </tbody>\n",
       "</table>\n",
       "</div>"
      ],
      "text/plain": [
       "    id    status chemicalformula           job         subjob  \\\n",
       "0    1  finished             Al4  job_lammps_1  /job_lammps_1   \n",
       "1    2  finished             Al4          murn          /murn   \n",
       "2    3  finished             Al4    strain_0_9    /strain_0_9   \n",
       "3    4  finished             Al4   strain_0_92   /strain_0_92   \n",
       "4    5  finished             Al4   strain_0_94   /strain_0_94   \n",
       "5    6  finished             Al4   strain_0_96   /strain_0_96   \n",
       "6    7  finished             Al4   strain_0_98   /strain_0_98   \n",
       "7    8  finished             Al4    strain_1_0    /strain_1_0   \n",
       "8    9  finished             Al4   strain_1_02   /strain_1_02   \n",
       "9   10  finished             Al4   strain_1_04   /strain_1_04   \n",
       "10  11  finished             Al4   strain_1_06   /strain_1_06   \n",
       "11  12  finished             Al4   strain_1_08   /strain_1_08   \n",
       "12  13  finished             Al4    strain_1_1    /strain_1_1   \n",
       "\n",
       "                    projectpath  \\\n",
       "0   /Users/jan/pyiron/projects/   \n",
       "1   /Users/jan/pyiron/projects/   \n",
       "2   /Users/jan/pyiron/projects/   \n",
       "3   /Users/jan/pyiron/projects/   \n",
       "4   /Users/jan/pyiron/projects/   \n",
       "5   /Users/jan/pyiron/projects/   \n",
       "6   /Users/jan/pyiron/projects/   \n",
       "7   /Users/jan/pyiron/projects/   \n",
       "8   /Users/jan/pyiron/projects/   \n",
       "9   /Users/jan/pyiron/projects/   \n",
       "10  /Users/jan/pyiron/projects/   \n",
       "11  /Users/jan/pyiron/projects/   \n",
       "12  /Users/jan/pyiron/projects/   \n",
       "\n",
       "                                                   project  \\\n",
       "0             2019/2019-12-11-lanl-tutorial/demonstration/   \n",
       "1             2019/2019-12-11-lanl-tutorial/demonstration/   \n",
       "2   2019/2019-12-11-lanl-tutorial/demonstration/murn_hdf5/   \n",
       "3   2019/2019-12-11-lanl-tutorial/demonstration/murn_hdf5/   \n",
       "4   2019/2019-12-11-lanl-tutorial/demonstration/murn_hdf5/   \n",
       "5   2019/2019-12-11-lanl-tutorial/demonstration/murn_hdf5/   \n",
       "6   2019/2019-12-11-lanl-tutorial/demonstration/murn_hdf5/   \n",
       "7   2019/2019-12-11-lanl-tutorial/demonstration/murn_hdf5/   \n",
       "8   2019/2019-12-11-lanl-tutorial/demonstration/murn_hdf5/   \n",
       "9   2019/2019-12-11-lanl-tutorial/demonstration/murn_hdf5/   \n",
       "10  2019/2019-12-11-lanl-tutorial/demonstration/murn_hdf5/   \n",
       "11  2019/2019-12-11-lanl-tutorial/demonstration/murn_hdf5/   \n",
       "12  2019/2019-12-11-lanl-tutorial/demonstration/murn_hdf5/   \n",
       "\n",
       "                    timestart                   timestop  totalcputime  \\\n",
       "0  2019-12-10 16:45:41.117157 2019-12-10 16:45:42.227282           1.0   \n",
       "1  2019-12-10 16:45:44.863248 2019-12-10 16:46:06.707634          21.0   \n",
       "2  2019-12-10 16:45:46.793676 2019-12-10 16:45:47.391474           0.0   \n",
       "3  2019-12-10 16:45:48.755689 2019-12-10 16:45:49.608306           0.0   \n",
       "4  2019-12-10 16:45:50.988969 2019-12-10 16:45:51.454903           0.0   \n",
       "5  2019-12-10 16:45:52.878985 2019-12-10 16:45:53.487162           0.0   \n",
       "6  2019-12-10 16:45:54.925316 2019-12-10 16:45:55.340213           0.0   \n",
       "7  2019-12-10 16:45:56.551747 2019-12-10 16:45:56.977871           0.0   \n",
       "8  2019-12-10 16:45:58.426541 2019-12-10 16:45:58.915650           0.0   \n",
       "9  2019-12-10 16:46:00.400515 2019-12-10 16:46:01.180575           0.0   \n",
       "10 2019-12-10 16:46:02.470651 2019-12-10 16:46:02.930345           0.0   \n",
       "11 2019-12-10 16:46:04.100879 2019-12-10 16:46:04.556366           0.0   \n",
       "12 2019-12-10 16:46:05.672669 2019-12-10 16:46:06.074122           0.0   \n",
       "\n",
       "                            computer   hamilton hamversion parentid  masterid  \n",
       "0         pyiron@MacBook-Pro.local#1     Lammps        0.1     None       NaN  \n",
       "1   pyiron@MacBook-Pro.local#1#11/11  Murnaghan      0.3.0     None       NaN  \n",
       "2         pyiron@MacBook-Pro.local#1     Lammps        0.1     None       2.0  \n",
       "3         pyiron@MacBook-Pro.local#1     Lammps        0.1     None       2.0  \n",
       "4         pyiron@MacBook-Pro.local#1     Lammps        0.1     None       2.0  \n",
       "5         pyiron@MacBook-Pro.local#1     Lammps        0.1     None       2.0  \n",
       "6         pyiron@MacBook-Pro.local#1     Lammps        0.1     None       2.0  \n",
       "7         pyiron@MacBook-Pro.local#1     Lammps        0.1     None       2.0  \n",
       "8         pyiron@MacBook-Pro.local#1     Lammps        0.1     None       2.0  \n",
       "9         pyiron@MacBook-Pro.local#1     Lammps        0.1     None       2.0  \n",
       "10        pyiron@MacBook-Pro.local#1     Lammps        0.1     None       2.0  \n",
       "11        pyiron@MacBook-Pro.local#1     Lammps        0.1     None       2.0  \n",
       "12        pyiron@MacBook-Pro.local#1     Lammps        0.1     None       2.0  "
      ]
     },
     "execution_count": 42,
     "metadata": {},
     "output_type": "execute_result"
    }
   ],
   "source": [
    "pr.job_table()"
   ]
  },
  {
   "cell_type": "markdown",
   "metadata": {},
   "source": [
    "# Data analytics "
   ]
  },
  {
   "cell_type": "code",
   "execution_count": 43,
   "metadata": {},
   "outputs": [],
   "source": [
    "table = pr.create_job(pr.job_type.TableJob, 'table')"
   ]
  },
  {
   "cell_type": "code",
   "execution_count": 44,
   "metadata": {},
   "outputs": [],
   "source": [
    "def filter_jobs(job):\n",
    "    return 'strain' in job.job_name "
   ]
  },
  {
   "cell_type": "code",
   "execution_count": 45,
   "metadata": {},
   "outputs": [],
   "source": [
    "table.filter_function = filter_jobs"
   ]
  },
  {
   "cell_type": "code",
   "execution_count": 46,
   "metadata": {},
   "outputs": [
    {
     "data": {
      "text/plain": [
       "True"
      ]
     },
     "execution_count": 46,
     "metadata": {},
     "output_type": "execute_result"
    }
   ],
   "source": [
    "table.add.get_job_name\n",
    "table.add.get_energy_tot\n",
    "table.add.get_volume"
   ]
  },
  {
   "cell_type": "code",
   "execution_count": 47,
   "metadata": {},
   "outputs": [
    {
     "data": {
      "text/plain": [
       "array([1000.        ,  582.70230622,  229.49990938,  381.8259667 ,\n",
       "        336.25888585,  287.50117596,  865.06486024, 1315.51010517,\n",
       "        477.09117767,  243.64736239,  341.96500837])"
      ]
     },
     "execution_count": 47,
     "metadata": {},
     "output_type": "execute_result"
    }
   ],
   "source": [
    "job_lammps['output/generic/temperature']  # temperature"
   ]
  },
  {
   "cell_type": "code",
   "execution_count": 48,
   "metadata": {},
   "outputs": [],
   "source": [
    "def custom_function(job): \n",
    "    return job['output/generic/temperature'][0]"
   ]
  },
  {
   "cell_type": "code",
   "execution_count": 49,
   "metadata": {},
   "outputs": [],
   "source": [
    "table.add['temperature'] = custom_function"
   ]
  },
  {
   "cell_type": "code",
   "execution_count": 50,
   "metadata": {},
   "outputs": [
    {
     "name": "stderr",
     "output_type": "stream",
     "text": [
      "100%|██████████| 11/11 [00:00<00:00, 78.96it/s]"
     ]
    },
    {
     "name": "stdout",
     "output_type": "stream",
     "text": [
      "The job table was saved and received the ID: 14\n"
     ]
    },
    {
     "name": "stderr",
     "output_type": "stream",
     "text": [
      "\n"
     ]
    }
   ],
   "source": [
    "table.run()"
   ]
  },
  {
   "cell_type": "code",
   "execution_count": 51,
   "metadata": {},
   "outputs": [
    {
     "data": {
      "text/html": [
       "<div>\n",
       "<style scoped>\n",
       "    .dataframe tbody tr th:only-of-type {\n",
       "        vertical-align: middle;\n",
       "    }\n",
       "\n",
       "    .dataframe tbody tr th {\n",
       "        vertical-align: top;\n",
       "    }\n",
       "\n",
       "    .dataframe thead th {\n",
       "        text-align: right;\n",
       "    }\n",
       "</style>\n",
       "<table border=\"1\" class=\"dataframe\">\n",
       "  <thead>\n",
       "    <tr style=\"text-align: right;\">\n",
       "      <th></th>\n",
       "      <th>job_name</th>\n",
       "      <th>job_id</th>\n",
       "      <th>energy_tot</th>\n",
       "      <th>volume</th>\n",
       "      <th>temperature</th>\n",
       "    </tr>\n",
       "  </thead>\n",
       "  <tbody>\n",
       "    <tr>\n",
       "      <th>0</th>\n",
       "      <td>strain_0_9</td>\n",
       "      <td>3</td>\n",
       "      <td>-13.428526</td>\n",
       "      <td>59.787112</td>\n",
       "      <td>0</td>\n",
       "    </tr>\n",
       "    <tr>\n",
       "      <th>1</th>\n",
       "      <td>strain_0_92</td>\n",
       "      <td>4</td>\n",
       "      <td>-13.519023</td>\n",
       "      <td>61.115715</td>\n",
       "      <td>0</td>\n",
       "    </tr>\n",
       "    <tr>\n",
       "      <th>2</th>\n",
       "      <td>strain_0_94</td>\n",
       "      <td>5</td>\n",
       "      <td>-13.580416</td>\n",
       "      <td>62.444317</td>\n",
       "      <td>0</td>\n",
       "    </tr>\n",
       "    <tr>\n",
       "      <th>3</th>\n",
       "      <td>strain_0_96</td>\n",
       "      <td>6</td>\n",
       "      <td>-13.618512</td>\n",
       "      <td>63.772920</td>\n",
       "      <td>0</td>\n",
       "    </tr>\n",
       "    <tr>\n",
       "      <th>4</th>\n",
       "      <td>strain_0_98</td>\n",
       "      <td>7</td>\n",
       "      <td>-13.638014</td>\n",
       "      <td>65.101522</td>\n",
       "      <td>0</td>\n",
       "    </tr>\n",
       "    <tr>\n",
       "      <th>5</th>\n",
       "      <td>strain_1_0</td>\n",
       "      <td>8</td>\n",
       "      <td>-13.642432</td>\n",
       "      <td>66.430125</td>\n",
       "      <td>0</td>\n",
       "    </tr>\n",
       "    <tr>\n",
       "      <th>6</th>\n",
       "      <td>strain_1_02</td>\n",
       "      <td>9</td>\n",
       "      <td>-13.634209</td>\n",
       "      <td>67.758727</td>\n",
       "      <td>0</td>\n",
       "    </tr>\n",
       "    <tr>\n",
       "      <th>7</th>\n",
       "      <td>strain_1_04</td>\n",
       "      <td>10</td>\n",
       "      <td>-13.614879</td>\n",
       "      <td>69.087330</td>\n",
       "      <td>0</td>\n",
       "    </tr>\n",
       "    <tr>\n",
       "      <th>8</th>\n",
       "      <td>strain_1_06</td>\n",
       "      <td>11</td>\n",
       "      <td>-13.585168</td>\n",
       "      <td>70.415932</td>\n",
       "      <td>0</td>\n",
       "    </tr>\n",
       "    <tr>\n",
       "      <th>9</th>\n",
       "      <td>strain_1_08</td>\n",
       "      <td>12</td>\n",
       "      <td>-13.545276</td>\n",
       "      <td>71.744535</td>\n",
       "      <td>0</td>\n",
       "    </tr>\n",
       "    <tr>\n",
       "      <th>10</th>\n",
       "      <td>strain_1_1</td>\n",
       "      <td>13</td>\n",
       "      <td>-13.495408</td>\n",
       "      <td>73.073137</td>\n",
       "      <td>0</td>\n",
       "    </tr>\n",
       "  </tbody>\n",
       "</table>\n",
       "</div>"
      ],
      "text/plain": [
       "       job_name  job_id  energy_tot     volume  temperature\n",
       "0    strain_0_9       3  -13.428526  59.787112            0\n",
       "1   strain_0_92       4  -13.519023  61.115715            0\n",
       "2   strain_0_94       5  -13.580416  62.444317            0\n",
       "3   strain_0_96       6  -13.618512  63.772920            0\n",
       "4   strain_0_98       7  -13.638014  65.101522            0\n",
       "5    strain_1_0       8  -13.642432  66.430125            0\n",
       "6   strain_1_02       9  -13.634209  67.758727            0\n",
       "7   strain_1_04      10  -13.614879  69.087330            0\n",
       "8   strain_1_06      11  -13.585168  70.415932            0\n",
       "9   strain_1_08      12  -13.545276  71.744535            0\n",
       "10   strain_1_1      13  -13.495408  73.073137            0"
      ]
     },
     "execution_count": 51,
     "metadata": {},
     "output_type": "execute_result"
    }
   ],
   "source": [
    "table.get_dataframe()"
   ]
  },
  {
   "cell_type": "code",
   "execution_count": 52,
   "metadata": {},
   "outputs": [
    {
     "data": {
      "text/plain": [
       "[<matplotlib.lines.Line2D at 0x116e41710>]"
      ]
     },
     "execution_count": 52,
     "metadata": {},
     "output_type": "execute_result"
    },
    {
     "data": {
      "image/png": "[encoded data removed]",
      "text/plain": [
       "<Figure size 432x288 with 1 Axes>"
      ]
     },
     "metadata": {
      "needs_background": "light"
     },
     "output_type": "display_data"
    }
   ],
   "source": [
    "plt.plot(table.get_dataframe()['volume'], table.get_dataframe()['energy_tot'])"
   ]
  },
  {
   "cell_type": "markdown",
   "metadata": {},
   "source": [
    "# interactive jobs"
   ]
  },
  {
   "cell_type": "code",
   "execution_count": 53,
   "metadata": {},
   "outputs": [
    {
     "data": {
      "text/plain": [
       "'modal'"
      ]
     },
     "execution_count": 53,
     "metadata": {},
     "output_type": "execute_result"
    }
   ],
   "source": [
    "job_lammps.server.run_mode"
   ]
  },
  {
   "cell_type": "code",
   "execution_count": 54,
   "metadata": {},
   "outputs": [
    {
     "data": {
      "text/plain": [
       "False"
      ]
     },
     "execution_count": 54,
     "metadata": {},
     "output_type": "execute_result"
    }
   ],
   "source": [
    "job_lammps.server.run_mode.non_modal  # run in background "
   ]
  },
  {
   "cell_type": "code",
   "execution_count": 55,
   "metadata": {},
   "outputs": [],
   "source": [
    "job_interactive = pr.create_job(pr.job_type.Lammps, 'lammps_interactive')"
   ]
  },
  {
   "cell_type": "code",
   "execution_count": 56,
   "metadata": {},
   "outputs": [],
   "source": [
    "job_interactive.structure = structure"
   ]
  },
  {
   "cell_type": "code",
   "execution_count": 57,
   "metadata": {},
   "outputs": [],
   "source": [
    "job_interactive.potential = 'Al_Mg_Mendelev_eam'"
   ]
  },
  {
   "cell_type": "code",
   "execution_count": 58,
   "metadata": {},
   "outputs": [],
   "source": [
    "job_interactive.server.run_mode.interactive = True "
   ]
  },
  {
   "cell_type": "code",
   "execution_count": 59,
   "metadata": {},
   "outputs": [
    {
     "name": "stdout",
     "output_type": "stream",
     "text": [
      "The job lammps_interactive was saved and received the ID: 15\n"
     ]
    }
   ],
   "source": [
    "job_interactive.run()"
   ]
  },
  {
   "cell_type": "code",
   "execution_count": 60,
   "metadata": {},
   "outputs": [
    {
     "data": {
      "text/html": [
       "<div>\n",
       "<style scoped>\n",
       "    .dataframe tbody tr th:only-of-type {\n",
       "        vertical-align: middle;\n",
       "    }\n",
       "\n",
       "    .dataframe tbody tr th {\n",
       "        vertical-align: top;\n",
       "    }\n",
       "\n",
       "    .dataframe thead th {\n",
       "        text-align: right;\n",
       "    }\n",
       "</style>\n",
       "<table border=\"1\" class=\"dataframe\">\n",
       "  <thead>\n",
       "    <tr style=\"text-align: right;\">\n",
       "      <th></th>\n",
       "      <th>id</th>\n",
       "      <th>status</th>\n",
       "      <th>chemicalformula</th>\n",
       "      <th>job</th>\n",
       "      <th>subjob</th>\n",
       "      <th>projectpath</th>\n",
       "      <th>project</th>\n",
       "      <th>timestart</th>\n",
       "      <th>timestop</th>\n",
       "      <th>totalcputime</th>\n",
       "      <th>computer</th>\n",
       "      <th>hamilton</th>\n",
       "      <th>hamversion</th>\n",
       "      <th>parentid</th>\n",
       "      <th>masterid</th>\n",
       "    </tr>\n",
       "  </thead>\n",
       "  <tbody>\n",
       "    <tr>\n",
       "      <th>0</th>\n",
       "      <td>1</td>\n",
       "      <td>finished</td>\n",
       "      <td>Al4</td>\n",
       "      <td>job_lammps_1</td>\n",
       "      <td>/job_lammps_1</td>\n",
       "      <td>/Users/jan/pyiron/projects/</td>\n",
       "      <td>2019/2019-12-11-lanl-tutorial/demonstration/</td>\n",
       "      <td>2019-12-10 16:45:41.117157</td>\n",
       "      <td>2019-12-10 16:45:42.227282</td>\n",
       "      <td>1.0</td>\n",
       "      <td>pyiron@MacBook-Pro.local#1</td>\n",
       "      <td>Lammps</td>\n",
       "      <td>0.1</td>\n",
       "      <td>None</td>\n",
       "      <td>NaN</td>\n",
       "    </tr>\n",
       "    <tr>\n",
       "      <th>1</th>\n",
       "      <td>2</td>\n",
       "      <td>finished</td>\n",
       "      <td>Al4</td>\n",
       "      <td>murn</td>\n",
       "      <td>/murn</td>\n",
       "      <td>/Users/jan/pyiron/projects/</td>\n",
       "      <td>2019/2019-12-11-lanl-tutorial/demonstration/</td>\n",
       "      <td>2019-12-10 16:45:44.863248</td>\n",
       "      <td>2019-12-10 16:46:06.707634</td>\n",
       "      <td>21.0</td>\n",
       "      <td>pyiron@MacBook-Pro.local#1#11/11</td>\n",
       "      <td>Murnaghan</td>\n",
       "      <td>0.3.0</td>\n",
       "      <td>None</td>\n",
       "      <td>NaN</td>\n",
       "    </tr>\n",
       "    <tr>\n",
       "      <th>2</th>\n",
       "      <td>3</td>\n",
       "      <td>finished</td>\n",
       "      <td>Al4</td>\n",
       "      <td>strain_0_9</td>\n",
       "      <td>/strain_0_9</td>\n",
       "      <td>/Users/jan/pyiron/projects/</td>\n",
       "      <td>2019/2019-12-11-lanl-tutorial/demonstration/murn_hdf5/</td>\n",
       "      <td>2019-12-10 16:45:46.793676</td>\n",
       "      <td>2019-12-10 16:45:47.391474</td>\n",
       "      <td>0.0</td>\n",
       "      <td>pyiron@MacBook-Pro.local#1</td>\n",
       "      <td>Lammps</td>\n",
       "      <td>0.1</td>\n",
       "      <td>None</td>\n",
       "      <td>2.0</td>\n",
       "    </tr>\n",
       "    <tr>\n",
       "      <th>3</th>\n",
       "      <td>4</td>\n",
       "      <td>finished</td>\n",
       "      <td>Al4</td>\n",
       "      <td>strain_0_92</td>\n",
       "      <td>/strain_0_92</td>\n",
       "      <td>/Users/jan/pyiron/projects/</td>\n",
       "      <td>2019/2019-12-11-lanl-tutorial/demonstration/murn_hdf5/</td>\n",
       "      <td>2019-12-10 16:45:48.755689</td>\n",
       "      <td>2019-12-10 16:45:49.608306</td>\n",
       "      <td>0.0</td>\n",
       "      <td>pyiron@MacBook-Pro.local#1</td>\n",
       "      <td>Lammps</td>\n",
       "      <td>0.1</td>\n",
       "      <td>None</td>\n",
       "      <td>2.0</td>\n",
       "    </tr>\n",
       "    <tr>\n",
       "      <th>4</th>\n",
       "      <td>5</td>\n",
       "      <td>finished</td>\n",
       "      <td>Al4</td>\n",
       "      <td>strain_0_94</td>\n",
       "      <td>/strain_0_94</td>\n",
       "      <td>/Users/jan/pyiron/projects/</td>\n",
       "      <td>2019/2019-12-11-lanl-tutorial/demonstration/murn_hdf5/</td>\n",
       "      <td>2019-12-10 16:45:50.988969</td>\n",
       "      <td>2019-12-10 16:45:51.454903</td>\n",
       "      <td>0.0</td>\n",
       "      <td>pyiron@MacBook-Pro.local#1</td>\n",
       "      <td>Lammps</td>\n",
       "      <td>0.1</td>\n",
       "      <td>None</td>\n",
       "      <td>2.0</td>\n",
       "    </tr>\n",
       "    <tr>\n",
       "      <th>5</th>\n",
       "      <td>6</td>\n",
       "      <td>finished</td>\n",
       "      <td>Al4</td>\n",
       "      <td>strain_0_96</td>\n",
       "      <td>/strain_0_96</td>\n",
       "      <td>/Users/jan/pyiron/projects/</td>\n",
       "      <td>2019/2019-12-11-lanl-tutorial/demonstration/murn_hdf5/</td>\n",
       "      <td>2019-12-10 16:45:52.878985</td>\n",
       "      <td>2019-12-10 16:45:53.487162</td>\n",
       "      <td>0.0</td>\n",
       "      <td>pyiron@MacBook-Pro.local#1</td>\n",
       "      <td>Lammps</td>\n",
       "      <td>0.1</td>\n",
       "      <td>None</td>\n",
       "      <td>2.0</td>\n",
       "    </tr>\n",
       "    <tr>\n",
       "      <th>6</th>\n",
       "      <td>7</td>\n",
       "      <td>finished</td>\n",
       "      <td>Al4</td>\n",
       "      <td>strain_0_98</td>\n",
       "      <td>/strain_0_98</td>\n",
       "      <td>/Users/jan/pyiron/projects/</td>\n",
       "      <td>2019/2019-12-11-lanl-tutorial/demonstration/murn_hdf5/</td>\n",
       "      <td>2019-12-10 16:45:54.925316</td>\n",
       "      <td>2019-12-10 16:45:55.340213</td>\n",
       "      <td>0.0</td>\n",
       "      <td>pyiron@MacBook-Pro.local#1</td>\n",
       "      <td>Lammps</td>\n",
       "      <td>0.1</td>\n",
       "      <td>None</td>\n",
       "      <td>2.0</td>\n",
       "    </tr>\n",
       "    <tr>\n",
       "      <th>7</th>\n",
       "      <td>8</td>\n",
       "      <td>finished</td>\n",
       "      <td>Al4</td>\n",
       "      <td>strain_1_0</td>\n",
       "      <td>/strain_1_0</td>\n",
       "      <td>/Users/jan/pyiron/projects/</td>\n",
       "      <td>2019/2019-12-11-lanl-tutorial/demonstration/murn_hdf5/</td>\n",
       "      <td>2019-12-10 16:45:56.551747</td>\n",
       "      <td>2019-12-10 16:45:56.977871</td>\n",
       "      <td>0.0</td>\n",
       "      <td>pyiron@MacBook-Pro.local#1</td>\n",
       "      <td>Lammps</td>\n",
       "      <td>0.1</td>\n",
       "      <td>None</td>\n",
       "      <td>2.0</td>\n",
       "    </tr>\n",
       "    <tr>\n",
       "      <th>8</th>\n",
       "      <td>9</td>\n",
       "      <td>finished</td>\n",
       "      <td>Al4</td>\n",
       "      <td>strain_1_02</td>\n",
       "      <td>/strain_1_02</td>\n",
       "      <td>/Users/jan/pyiron/projects/</td>\n",
       "      <td>2019/2019-12-11-lanl-tutorial/demonstration/murn_hdf5/</td>\n",
       "      <td>2019-12-10 16:45:58.426541</td>\n",
       "      <td>2019-12-10 16:45:58.915650</td>\n",
       "      <td>0.0</td>\n",
       "      <td>pyiron@MacBook-Pro.local#1</td>\n",
       "      <td>Lammps</td>\n",
       "      <td>0.1</td>\n",
       "      <td>None</td>\n",
       "      <td>2.0</td>\n",
       "    </tr>\n",
       "    <tr>\n",
       "      <th>9</th>\n",
       "      <td>10</td>\n",
       "      <td>finished</td>\n",
       "      <td>Al4</td>\n",
       "      <td>strain_1_04</td>\n",
       "      <td>/strain_1_04</td>\n",
       "      <td>/Users/jan/pyiron/projects/</td>\n",
       "      <td>2019/2019-12-11-lanl-tutorial/demonstration/murn_hdf5/</td>\n",
       "      <td>2019-12-10 16:46:00.400515</td>\n",
       "      <td>2019-12-10 16:46:01.180575</td>\n",
       "      <td>0.0</td>\n",
       "      <td>pyiron@MacBook-Pro.local#1</td>\n",
       "      <td>Lammps</td>\n",
       "      <td>0.1</td>\n",
       "      <td>None</td>\n",
       "      <td>2.0</td>\n",
       "    </tr>\n",
       "    <tr>\n",
       "      <th>10</th>\n",
       "      <td>11</td>\n",
       "      <td>finished</td>\n",
       "      <td>Al4</td>\n",
       "      <td>strain_1_06</td>\n",
       "      <td>/strain_1_06</td>\n",
       "      <td>/Users/jan/pyiron/projects/</td>\n",
       "      <td>2019/2019-12-11-lanl-tutorial/demonstration/murn_hdf5/</td>\n",
       "      <td>2019-12-10 16:46:02.470651</td>\n",
       "      <td>2019-12-10 16:46:02.930345</td>\n",
       "      <td>0.0</td>\n",
       "      <td>pyiron@MacBook-Pro.local#1</td>\n",
       "      <td>Lammps</td>\n",
       "      <td>0.1</td>\n",
       "      <td>None</td>\n",
       "      <td>2.0</td>\n",
       "    </tr>\n",
       "    <tr>\n",
       "      <th>11</th>\n",
       "      <td>12</td>\n",
       "      <td>finished</td>\n",
       "      <td>Al4</td>\n",
       "      <td>strain_1_08</td>\n",
       "      <td>/strain_1_08</td>\n",
       "      <td>/Users/jan/pyiron/projects/</td>\n",
       "      <td>2019/2019-12-11-lanl-tutorial/demonstration/murn_hdf5/</td>\n",
       "      <td>2019-12-10 16:46:04.100879</td>\n",
       "      <td>2019-12-10 16:46:04.556366</td>\n",
       "      <td>0.0</td>\n",
       "      <td>pyiron@MacBook-Pro.local#1</td>\n",
       "      <td>Lammps</td>\n",
       "      <td>0.1</td>\n",
       "      <td>None</td>\n",
       "      <td>2.0</td>\n",
       "    </tr>\n",
       "    <tr>\n",
       "      <th>12</th>\n",
       "      <td>13</td>\n",
       "      <td>finished</td>\n",
       "      <td>Al4</td>\n",
       "      <td>strain_1_1</td>\n",
       "      <td>/strain_1_1</td>\n",
       "      <td>/Users/jan/pyiron/projects/</td>\n",
       "      <td>2019/2019-12-11-lanl-tutorial/demonstration/murn_hdf5/</td>\n",
       "      <td>2019-12-10 16:46:05.672669</td>\n",
       "      <td>2019-12-10 16:46:06.074122</td>\n",
       "      <td>0.0</td>\n",
       "      <td>pyiron@MacBook-Pro.local#1</td>\n",
       "      <td>Lammps</td>\n",
       "      <td>0.1</td>\n",
       "      <td>None</td>\n",
       "      <td>2.0</td>\n",
       "    </tr>\n",
       "    <tr>\n",
       "      <th>13</th>\n",
       "      <td>14</td>\n",
       "      <td>finished</td>\n",
       "      <td>None</td>\n",
       "      <td>table</td>\n",
       "      <td>/table</td>\n",
       "      <td>/Users/jan/pyiron/projects/</td>\n",
       "      <td>2019/2019-12-11-lanl-tutorial/demonstration/</td>\n",
       "      <td>2019-12-10 16:46:07.886290</td>\n",
       "      <td>2019-12-10 16:46:08.090257</td>\n",
       "      <td>0.0</td>\n",
       "      <td>pyiron@MacBook-Pro.local#1</td>\n",
       "      <td>TableJob</td>\n",
       "      <td>0.1</td>\n",
       "      <td>None</td>\n",
       "      <td>NaN</td>\n",
       "    </tr>\n",
       "    <tr>\n",
       "      <th>14</th>\n",
       "      <td>15</td>\n",
       "      <td>running</td>\n",
       "      <td>Al4</td>\n",
       "      <td>lammps_interactive</td>\n",
       "      <td>/lammps_interactive</td>\n",
       "      <td>/Users/jan/pyiron/projects/</td>\n",
       "      <td>2019/2019-12-11-lanl-tutorial/demonstration/</td>\n",
       "      <td>2019-12-10 16:46:08.593883</td>\n",
       "      <td>NaT</td>\n",
       "      <td>NaN</td>\n",
       "      <td>pyiron@MacBook-Pro.local#1</td>\n",
       "      <td>Lammps</td>\n",
       "      <td>0.1</td>\n",
       "      <td>None</td>\n",
       "      <td>NaN</td>\n",
       "    </tr>\n",
       "  </tbody>\n",
       "</table>\n",
       "</div>"
      ],
      "text/plain": [
       "    id    status chemicalformula                 job               subjob  \\\n",
       "0    1  finished             Al4        job_lammps_1        /job_lammps_1   \n",
       "1    2  finished             Al4                murn                /murn   \n",
       "2    3  finished             Al4          strain_0_9          /strain_0_9   \n",
       "3    4  finished             Al4         strain_0_92         /strain_0_92   \n",
       "4    5  finished             Al4         strain_0_94         /strain_0_94   \n",
       "5    6  finished             Al4         strain_0_96         /strain_0_96   \n",
       "6    7  finished             Al4         strain_0_98         /strain_0_98   \n",
       "7    8  finished             Al4          strain_1_0          /strain_1_0   \n",
       "8    9  finished             Al4         strain_1_02         /strain_1_02   \n",
       "9   10  finished             Al4         strain_1_04         /strain_1_04   \n",
       "10  11  finished             Al4         strain_1_06         /strain_1_06   \n",
       "11  12  finished             Al4         strain_1_08         /strain_1_08   \n",
       "12  13  finished             Al4          strain_1_1          /strain_1_1   \n",
       "13  14  finished            None               table               /table   \n",
       "14  15   running             Al4  lammps_interactive  /lammps_interactive   \n",
       "\n",
       "                    projectpath  \\\n",
       "0   /Users/jan/pyiron/projects/   \n",
       "1   /Users/jan/pyiron/projects/   \n",
       "2   /Users/jan/pyiron/projects/   \n",
       "3   /Users/jan/pyiron/projects/   \n",
       "4   /Users/jan/pyiron/projects/   \n",
       "5   /Users/jan/pyiron/projects/   \n",
       "6   /Users/jan/pyiron/projects/   \n",
       "7   /Users/jan/pyiron/projects/   \n",
       "8   /Users/jan/pyiron/projects/   \n",
       "9   /Users/jan/pyiron/projects/   \n",
       "10  /Users/jan/pyiron/projects/   \n",
       "11  /Users/jan/pyiron/projects/   \n",
       "12  /Users/jan/pyiron/projects/   \n",
       "13  /Users/jan/pyiron/projects/   \n",
       "14  /Users/jan/pyiron/projects/   \n",
       "\n",
       "                                                   project  \\\n",
       "0             2019/2019-12-11-lanl-tutorial/demonstration/   \n",
       "1             2019/2019-12-11-lanl-tutorial/demonstration/   \n",
       "2   2019/2019-12-11-lanl-tutorial/demonstration/murn_hdf5/   \n",
       "3   2019/2019-12-11-lanl-tutorial/demonstration/murn_hdf5/   \n",
       "4   2019/2019-12-11-lanl-tutorial/demonstration/murn_hdf5/   \n",
       "5   2019/2019-12-11-lanl-tutorial/demonstration/murn_hdf5/   \n",
       "6   2019/2019-12-11-lanl-tutorial/demonstration/murn_hdf5/   \n",
       "7   2019/2019-12-11-lanl-tutorial/demonstration/murn_hdf5/   \n",
       "8   2019/2019-12-11-lanl-tutorial/demonstration/murn_hdf5/   \n",
       "9   2019/2019-12-11-lanl-tutorial/demonstration/murn_hdf5/   \n",
       "10  2019/2019-12-11-lanl-tutorial/demonstration/murn_hdf5/   \n",
       "11  2019/2019-12-11-lanl-tutorial/demonstration/murn_hdf5/   \n",
       "12  2019/2019-12-11-lanl-tutorial/demonstration/murn_hdf5/   \n",
       "13            2019/2019-12-11-lanl-tutorial/demonstration/   \n",
       "14            2019/2019-12-11-lanl-tutorial/demonstration/   \n",
       "\n",
       "                    timestart                   timestop  totalcputime  \\\n",
       "0  2019-12-10 16:45:41.117157 2019-12-10 16:45:42.227282           1.0   \n",
       "1  2019-12-10 16:45:44.863248 2019-12-10 16:46:06.707634          21.0   \n",
       "2  2019-12-10 16:45:46.793676 2019-12-10 16:45:47.391474           0.0   \n",
       "3  2019-12-10 16:45:48.755689 2019-12-10 16:45:49.608306           0.0   \n",
       "4  2019-12-10 16:45:50.988969 2019-12-10 16:45:51.454903           0.0   \n",
       "5  2019-12-10 16:45:52.878985 2019-12-10 16:45:53.487162           0.0   \n",
       "6  2019-12-10 16:45:54.925316 2019-12-10 16:45:55.340213           0.0   \n",
       "7  2019-12-10 16:45:56.551747 2019-12-10 16:45:56.977871           0.0   \n",
       "8  2019-12-10 16:45:58.426541 2019-12-10 16:45:58.915650           0.0   \n",
       "9  2019-12-10 16:46:00.400515 2019-12-10 16:46:01.180575           0.0   \n",
       "10 2019-12-10 16:46:02.470651 2019-12-10 16:46:02.930345           0.0   \n",
       "11 2019-12-10 16:46:04.100879 2019-12-10 16:46:04.556366           0.0   \n",
       "12 2019-12-10 16:46:05.672669 2019-12-10 16:46:06.074122           0.0   \n",
       "13 2019-12-10 16:46:07.886290 2019-12-10 16:46:08.090257           0.0   \n",
       "14 2019-12-10 16:46:08.593883                        NaT           NaN   \n",
       "\n",
       "                            computer   hamilton hamversion parentid  masterid  \n",
       "0         pyiron@MacBook-Pro.local#1     Lammps        0.1     None       NaN  \n",
       "1   pyiron@MacBook-Pro.local#1#11/11  Murnaghan      0.3.0     None       NaN  \n",
       "2         pyiron@MacBook-Pro.local#1     Lammps        0.1     None       2.0  \n",
       "3         pyiron@MacBook-Pro.local#1     Lammps        0.1     None       2.0  \n",
       "4         pyiron@MacBook-Pro.local#1     Lammps        0.1     None       2.0  \n",
       "5         pyiron@MacBook-Pro.local#1     Lammps        0.1     None       2.0  \n",
       "6         pyiron@MacBook-Pro.local#1     Lammps        0.1     None       2.0  \n",
       "7         pyiron@MacBook-Pro.local#1     Lammps        0.1     None       2.0  \n",
       "8         pyiron@MacBook-Pro.local#1     Lammps        0.1     None       2.0  \n",
       "9         pyiron@MacBook-Pro.local#1     Lammps        0.1     None       2.0  \n",
       "10        pyiron@MacBook-Pro.local#1     Lammps        0.1     None       2.0  \n",
       "11        pyiron@MacBook-Pro.local#1     Lammps        0.1     None       2.0  \n",
       "12        pyiron@MacBook-Pro.local#1     Lammps        0.1     None       2.0  \n",
       "13        pyiron@MacBook-Pro.local#1   TableJob        0.1     None       NaN  \n",
       "14        pyiron@MacBook-Pro.local#1     Lammps        0.1     None       NaN  "
      ]
     },
     "execution_count": 60,
     "metadata": {},
     "output_type": "execute_result"
    }
   ],
   "source": [
    "pr.job_table()"
   ]
  },
  {
   "cell_type": "code",
   "execution_count": 61,
   "metadata": {},
   "outputs": [
    {
     "data": {
      "text/plain": [
       "array([[[-1.21430643e-17, -8.67361738e-18,  1.38777878e-17],\n",
       "        [ 4.02455846e-16, -1.73472348e-17,  3.46944695e-17],\n",
       "        [ 4.57966998e-16, -3.12250226e-17,  1.04083409e-17],\n",
       "        [-8.50881865e-16,  2.77555756e-17,  1.04083409e-17]]])"
      ]
     },
     "execution_count": 61,
     "metadata": {},
     "output_type": "execute_result"
    }
   ],
   "source": [
    "job_interactive.output.forces"
   ]
  },
  {
   "cell_type": "code",
   "execution_count": 62,
   "metadata": {},
   "outputs": [],
   "source": [
    "structure_displace = structure.copy()"
   ]
  },
  {
   "cell_type": "code",
   "execution_count": 63,
   "metadata": {},
   "outputs": [
    {
     "data": {
      "text/plain": [
       "array([[0.00000000e+00, 0.00000000e+00, 0.00000000e+00],\n",
       "       [2.02500000e+00, 2.02500000e+00, 0.00000000e+00],\n",
       "       [2.02500000e+00, 1.23995488e-16, 2.02500000e+00],\n",
       "       [2.47990977e-16, 2.02500000e+00, 2.02500000e+00]])"
      ]
     },
     "execution_count": 63,
     "metadata": {},
     "output_type": "execute_result"
    }
   ],
   "source": [
    "structure_displace.positions"
   ]
  },
  {
   "cell_type": "code",
   "execution_count": 64,
   "metadata": {},
   "outputs": [],
   "source": [
    "structure_displace.positions[0] = [0.1, 0.1, 0.1]"
   ]
  },
  {
   "cell_type": "code",
   "execution_count": 65,
   "metadata": {},
   "outputs": [],
   "source": [
    "job_interactive.structure = structure_displace"
   ]
  },
  {
   "cell_type": "code",
   "execution_count": 66,
   "metadata": {},
   "outputs": [],
   "source": [
    "job_interactive.run()"
   ]
  },
  {
   "cell_type": "code",
   "execution_count": 67,
   "metadata": {},
   "outputs": [
    {
     "data": {
      "text/plain": [
       "array([[[-1.21430643e-17, -8.67361738e-18,  1.38777878e-17],\n",
       "        [ 4.02455846e-16, -1.73472348e-17,  3.46944695e-17],\n",
       "        [ 4.57966998e-16, -3.12250226e-17,  1.04083409e-17],\n",
       "        [-8.50881865e-16,  2.77555756e-17,  1.04083409e-17]],\n",
       "\n",
       "       [[-4.55030844e-01, -4.55030844e-01, -4.55030844e-01],\n",
       "        [ 2.35038075e-01,  2.35038075e-01, -1.50453048e-02],\n",
       "        [ 2.35038075e-01, -1.50453048e-02,  2.35038075e-01],\n",
       "        [-1.50453048e-02,  2.35038075e-01,  2.35038075e-01]]])"
      ]
     },
     "execution_count": 67,
     "metadata": {},
     "output_type": "execute_result"
    }
   ],
   "source": [
    "job_interactive.output.forces"
   ]
  },
  {
   "cell_type": "code",
   "execution_count": 68,
   "metadata": {},
   "outputs": [],
   "source": [
    "job_interactive.interactive_close()"
   ]
  },
  {
   "cell_type": "code",
   "execution_count": 69,
   "metadata": {},
   "outputs": [],
   "source": [
    "job_inter_mini = pr.create_job(pr.job_type.Lammps, 'lammps_int_template')"
   ]
  },
  {
   "cell_type": "code",
   "execution_count": 70,
   "metadata": {},
   "outputs": [],
   "source": [
    "job_inter_mini.structure = structure_displace"
   ]
  },
  {
   "cell_type": "code",
   "execution_count": 71,
   "metadata": {},
   "outputs": [],
   "source": [
    "job_inter_mini.potential = 'Al_Mg_Mendelev_eam'"
   ]
  },
  {
   "cell_type": "code",
   "execution_count": 72,
   "metadata": {},
   "outputs": [],
   "source": [
    "job_inter_mini.server.run_mode.interactive = True"
   ]
  },
  {
   "cell_type": "code",
   "execution_count": 73,
   "metadata": {},
   "outputs": [],
   "source": [
    "mini = pr.create_job(pr.job_type.ScipyMinimizer, 'mini')"
   ]
  },
  {
   "cell_type": "code",
   "execution_count": 74,
   "metadata": {},
   "outputs": [],
   "source": [
    "mini.ref_job = job_inter_mini"
   ]
  },
  {
   "cell_type": "code",
   "execution_count": 75,
   "metadata": {},
   "outputs": [
    {
     "name": "stdout",
     "output_type": "stream",
     "text": [
      "The job mini was saved and received the ID: 16\n",
      "The job lammps_int_template was saved and received the ID: 17\n"
     ]
    }
   ],
   "source": [
    "mini.run()"
   ]
  },
  {
   "cell_type": "code",
   "execution_count": 76,
   "metadata": {},
   "outputs": [
    {
     "data": {
      "text/plain": [
       "array([-13.57796067,  -9.43921041, -13.62207552, -13.63559813,\n",
       "       -13.54439975, -13.64239149, -13.64071651, -13.64243195,\n",
       "       -13.64243082, -13.642432  , -13.64243181, -13.64243201])"
      ]
     },
     "execution_count": 76,
     "metadata": {},
     "output_type": "execute_result"
    }
   ],
   "source": [
    "mini.ref_job.output.energy_tot"
   ]
  },
  {
   "cell_type": "code",
   "execution_count": 77,
   "metadata": {},
   "outputs": [
    {
     "data": {
      "text/plain": [
       "[<matplotlib.lines.Line2D at 0x116e62c18>]"
      ]
     },
     "execution_count": 77,
     "metadata": {},
     "output_type": "execute_result"
    },
    {
     "data": {
      "image/png": "[encoded data removed]",
      "text/plain": [
       "<Figure size 432x288 with 1 Axes>"
      ]
     },
     "metadata": {
      "needs_background": "light"
     },
     "output_type": "display_data"
    }
   ],
   "source": [
    "plt.plot(mini.ref_job.output.energy_tot)"
   ]
  },
  {
   "cell_type": "markdown",
   "metadata": {},
   "source": [
    "# GUI "
   ]
  },
  {
   "cell_type": "code",
   "execution_count": 78,
   "metadata": {},
   "outputs": [
    {
     "data": {
      "application/vnd.jupyter.widget-view+json": {
       "model_id": "63b88c79209b4a3c8e633e1a90b894b0",
       "version_major": 2,
       "version_minor": 0
      },
      "text/plain": [
       "VBox(children=(HBox(children=(VBox(children=(Select(description='Groups:', options=('.', '..'), value='.'), Se…"
      ]
     },
     "metadata": {},
     "output_type": "display_data"
    }
   ],
   "source": [
    "pr.gui()"
   ]
  },
  {
   "cell_type": "code",
   "execution_count": null,
   "metadata": {},
   "outputs": [],
   "source": []
  }
 ],
 "metadata": {
  "kernelspec": {
   "display_name": "Python 3",
   "language": "python",
   "name": "python3"
  },
  "language_info": {
   "codemirror_mode": {
    "name": "ipython",
    "version": 3
   },
   "file_extension": ".py",
   "mimetype": "text/x-python",
   "name": "python",
   "nbconvert_exporter": "python",
   "pygments_lexer": "ipython3",
   "version": "3.7.3"
  }
 },
 "nbformat": 4,
 "nbformat_minor": 4
}
